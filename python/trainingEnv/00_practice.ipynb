{
 "cells": [
  {
   "cell_type": "markdown",
   "metadata": {},
   "source": [
    "高橋君はデータの加工が行いたいです。\n",
    "整数 a,b,cと、文字列 s が与えられます。 \n",
    "a+b+c の計算結果と、文字列 s を並べて表示しなさい。\n",
    "制約\n",
    "1≤a,b,c≤1,000\n",
    "1≤∣s∣≤100\n",
    "入力\n",
    "入力は以下の形式で与えられる。\n",
    "a\n",
    "b c\n",
    "s\n",
    "出力\n",
    "a+b+c と \n",
    "s を空白区切りで \n",
    "1 行に出力せよ。"
   ]
  },
  {
   "cell_type": "code",
   "execution_count": 6,
   "metadata": {},
   "outputs": [
    {
     "name": "stdout",
     "output_type": "stream",
     "text": [
      "9 ss\n"
     ]
    }
   ],
   "source": [
    "#入力\n",
    "in_a = input()\n",
    "in_bc = input()\n",
    "s = input()\n",
    "\n",
    "#処理\n",
    "a = int(in_a)\n",
    "#b,c = map(int, in_bc.split())\n",
    "#out = print(\"{} {}\".format(str(a + b + c),s))\n",
    "#out = str(a + b + c) + \" \" + s\n",
    "\n",
    "#list_bc = in_bc.split()\n",
    "#out = str(a + int(list_bc[0]) + int(list_bc[1])) + \" \" + s\n",
    "b,c = in_bc.split()\n",
    "out = str(a + int(b) + int(c)) + \" \" + s\n",
    "\n",
    "#出力\n",
    "print(out)"
   ]
  }
 ],
 "metadata": {
  "kernelspec": {
   "display_name": "Python 3.9.13 ('env': venv)",
   "language": "python",
   "name": "python3"
  },
  "language_info": {
   "codemirror_mode": {
    "name": "ipython",
    "version": 3
   },
   "file_extension": ".py",
   "mimetype": "text/x-python",
   "name": "python",
   "nbconvert_exporter": "python",
   "pygments_lexer": "ipython3",
   "version": "3.9.13"
  },
  "orig_nbformat": 4,
  "vscode": {
   "interpreter": {
    "hash": "ecaf1930e30cd0be128d31f4adae6efd4b139ebeb197599497293c55102f4ebe"
   }
  }
 },
 "nbformat": 4,
 "nbformat_minor": 2
}
