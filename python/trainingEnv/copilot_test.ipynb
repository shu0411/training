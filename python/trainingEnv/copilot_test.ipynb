{
 "cells": [
  {
   "cell_type": "code",
   "execution_count": null,
   "metadata": {},
   "outputs": [],
   "source": [
    "from itertools import permutations\n",
    "\n",
    "#標準入力から4つの数字を取得\n",
    "a, b, c, d = map(int, input().split())\n",
    "\n",
    "out = '解なし'\n",
    "\n",
    "#4つの数字を加減乗除して10を作る\n",
    "for op1, op2, op3 in permutations(['+', '-', '*', '/'], 3):\n",
    "    try:\n",
    "        if eval(f\"{a}{op1}{b}{op2}{c}{op3}{d}\") == 10:\n",
    "            out = f\"{a}{op1}{b}{op2}{c}{op3}{d}\"\n",
    "            break\n",
    "    except ZeroDivisionError:\n",
    "        pass\n",
    "\n",
    "print(out)"
   ]
  }
 ],
 "metadata": {
  "language_info": {
   "name": "python"
  }
 },
 "nbformat": 4,
 "nbformat_minor": 2
}
