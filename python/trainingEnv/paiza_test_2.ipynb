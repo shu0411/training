{
 "cells": [
  {
   "cell_type": "code",
   "execution_count": 2,
   "metadata": {},
   "outputs": [
    {
     "name": "stdout",
     "output_type": "stream",
     "text": [
      "-PA-I-ZA\n"
     ]
    }
   ],
   "source": [
    "#143\n",
    "#入力\n",
    "S = input()\n",
    "\n",
    "#処理\n",
    "new_S = \"\"\n",
    "for i in range(len(S)):\n",
    "    if i == 0 or S[i] != \"-\" or S[i-1] != \"-\":\n",
    "        new_S += S[i]\n",
    "\n",
    "#出力\n",
    "print(new_S)\n"
   ]
  },
  {
   "cell_type": "code",
   "execution_count": null,
   "metadata": {},
   "outputs": [],
   "source": [
    "#入力\n",
    "\n",
    "#処理\n",
    "out = 0\n",
    "\n",
    "#出力\n",
    "print(out)"
   ]
  }
 ],
 "metadata": {
  "kernelspec": {
   "display_name": "env",
   "language": "python",
   "name": "python3"
  },
  "language_info": {
   "codemirror_mode": {
    "name": "ipython",
    "version": 3
   },
   "file_extension": ".py",
   "mimetype": "text/x-python",
   "name": "python",
   "nbconvert_exporter": "python",
   "pygments_lexer": "ipython3",
   "version": "3.11.1"
  }
 },
 "nbformat": 4,
 "nbformat_minor": 2
}
