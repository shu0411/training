{
 "cells": [
  {
   "cell_type": "markdown",
   "metadata": {},
   "source": [
    "ARC165"
   ]
  },
  {
   "cell_type": "code",
   "execution_count": null,
   "metadata": {},
   "outputs": [],
   "source": [
    "#A\n",
    "#入力N\n",
    "N = int(input())\n",
    "\n",
    "for i in range(N):\n",
    "    #入力A\n",
    "    A = int(input())    #6\n",
    "    ans = \n",
    "\n",
    "    #処理\n",
    "    \n",
    "    #出力\n",
    "    if 1=1:\n",
    "        print(\"Yes\")\n",
    "    else:\n",
    "        print(\"No\")"
   ]
  },
  {
   "cell_type": "code",
   "execution_count": 43,
   "metadata": {},
   "outputs": [
    {
     "name": "stdout",
     "output_type": "stream",
     "text": [
      "9 4 3 1 11 12 13 15 17 7 2 5 6 8 18 19 20 16 14 10\n"
     ]
    }
   ],
   "source": [
    "#B\n",
    "#入力\n",
    "N,K = map(int,input().split())\n",
    "list_P = list(map(int,input().split()))\n",
    "\n",
    "ans_list_P = [-1] * N\n",
    "#処理\n",
    "for i in range(0,N-K+1):\n",
    "    tmp_list_P = list_P.copy()\n",
    "    list_Pj = tmp_list_P[i:i+K]   #最後からK個分の要素を取得\n",
    "    list_Pj.sort()\n",
    "\n",
    "    #並び変えたものの置き換え\n",
    "    tmp_list_P[i:i+K] = list_Pj\n",
    "\n",
    "    #辞書式に大きい数列を解とする\n",
    "    ans_list_P = max(ans_list_P,tmp_list_P)\n",
    "    \n",
    "#出力\n",
    "print(*ans_list_P)"
   ]
  },
  {
   "cell_type": "code",
   "execution_count": 40,
   "metadata": {},
   "outputs": [
    {
     "name": "stdout",
     "output_type": "stream",
     "text": [
      "2 1 3 4\n"
     ]
    }
   ],
   "source": [
    "#B\n",
    "#入力\n",
    "N,K = map(int,input().split())\n",
    "list_P = list(map(int,input().split()))\n",
    "\n",
    "list_list_P = []\n",
    "\n",
    "#処理\n",
    "for i in range(0,N-K+1):\n",
    "    tmp_list_P =  list_P.copy()\n",
    "    list_Pj = tmp_list_P[i:i+K]   #最後からK個分の要素を取得\n",
    "    list_Pj.sort()\n",
    "\n",
    "    #並び変えたものの置き換え\n",
    "    tmp_list_P[i:i+K] = list_Pj\n",
    "\n",
    "    list_list_P.append(tmp_list_P.copy())\n",
    "    \n",
    "list_list_P.sort()\n",
    "ans_list_P = list_list_P[N-K]\n",
    "\n",
    "#出力\n",
    "print(*ans_list_P)"
   ]
  }
 ],
 "metadata": {
  "kernelspec": {
   "display_name": "env",
   "language": "python",
   "name": "python3"
  },
  "language_info": {
   "codemirror_mode": {
    "name": "ipython",
    "version": 3
   },
   "file_extension": ".py",
   "mimetype": "text/x-python",
   "name": "python",
   "nbconvert_exporter": "python",
   "pygments_lexer": "ipython3",
   "version": "3.9.13"
  },
  "orig_nbformat": 4
 },
 "nbformat": 4,
 "nbformat_minor": 2
}
