{
 "cells": [
  {
   "attachments": {},
   "cell_type": "markdown",
   "metadata": {},
   "source": [
    "コードテスト用"
   ]
  },
  {
   "attachments": {},
   "cell_type": "markdown",
   "metadata": {},
   "source": [
    "#入力\n",
    "\n",
    "#処理\n",
    "out = 0\n",
    "\n",
    "#出力\n",
    "print(out)"
   ]
  },
  {
   "cell_type": "code",
   "execution_count": 13,
   "metadata": {},
   "outputs": [
    {
     "ename": "ValueError",
     "evalue": "not enough values to unpack (expected 3, got 0)",
     "output_type": "error",
     "traceback": [
      "\u001b[1;31m---------------------------------------------------------------------------\u001b[0m",
      "\u001b[1;31mValueError\u001b[0m                                Traceback (most recent call last)",
      "Cell \u001b[1;32mIn[13], line 2\u001b[0m\n\u001b[0;32m      1\u001b[0m input_line \u001b[39m=\u001b[39m \u001b[39minput\u001b[39m()\n\u001b[1;32m----> 2\u001b[0m in_N,in_X,in_Y \u001b[39m=\u001b[39m \u001b[39mmap\u001b[39m(\u001b[39mint\u001b[39m,input_line\u001b[39m.\u001b[39msplit())\n\u001b[0;32m      4\u001b[0m \u001b[39mfor\u001b[39;00m i \u001b[39min\u001b[39;00m \u001b[39mrange\u001b[39m(\u001b[39m1\u001b[39m,in_N \u001b[39m+\u001b[39m \u001b[39m1\u001b[39m):\n\u001b[0;32m      5\u001b[0m     out \u001b[39m=\u001b[39m \u001b[39m\"\u001b[39m\u001b[39m\"\u001b[39m\n",
      "\u001b[1;31mValueError\u001b[0m: not enough values to unpack (expected 3, got 0)"
     ]
    }
   ],
   "source": [
    "input_line = input()\n",
    "in_N,in_X,in_Y = map(int,input_line.split())\n",
    "\n",
    "for i in range(1,in_N + 1):\n",
    "    out = \"\"\n",
    "    if(i % in_X == 0):\n",
    "        out = \"A\"\n",
    "    if(i % in_Y == 0):\n",
    "        out += \"B\"\n",
    "    if(out == \"\"):\n",
    "        out = \"N\"\n",
    "    print(out)"
   ]
  },
  {
   "cell_type": "code",
   "execution_count": 24,
   "metadata": {},
   "outputs": [
    {
     "ename": "ValueError",
     "evalue": "not enough values to unpack (expected 2, got 0)",
     "output_type": "error",
     "traceback": [
      "\u001b[1;31m---------------------------------------------------------------------------\u001b[0m",
      "\u001b[1;31mValueError\u001b[0m                                Traceback (most recent call last)",
      "Cell \u001b[1;32mIn[24], line 2\u001b[0m\n\u001b[0;32m      1\u001b[0m \u001b[39m#入力\u001b[39;00m\n\u001b[1;32m----> 2\u001b[0m in_N,in_M \u001b[39m=\u001b[39m \u001b[39mmap\u001b[39m(\u001b[39mint\u001b[39m,\u001b[39minput\u001b[39m()\u001b[39m.\u001b[39msplit())\n\u001b[0;32m      4\u001b[0m list_lines \u001b[39m=\u001b[39m []\n\u001b[0;32m      5\u001b[0m \u001b[39mfor\u001b[39;00m i \u001b[39min\u001b[39;00m \u001b[39mrange\u001b[39m(in_N):\n",
      "\u001b[1;31mValueError\u001b[0m: not enough values to unpack (expected 2, got 0)"
     ]
    }
   ],
   "source": [
    "#入力\n",
    "in_N,in_M = map(int,input().split())\n",
    "\n",
    "list_lines = []\n",
    "for i in range(in_N):\n",
    "    tmp_line = list(map(int,input().split()))\n",
    "    list_lines.append(tmp_line)\n",
    "\n",
    "in_X = int(input())\n",
    "list_route = []\n",
    "for j in range(in_X):\n",
    "    tmp_route = list(map(int,input().split()))\n",
    "    list_route.append(tmp_route)\n",
    "\n",
    "#処理\n",
    "cost = 0\n",
    "before_sta_index = 0\n",
    "before_value = 0\n",
    "for route in list_route:\n",
    "    line_index = route[0] - 1\n",
    "    sta_index = route[1] - 1\n",
    "    before_value = list_lines[line_index][before_sta_index]\n",
    "    after_value = list_lines[line_index][sta_index]\n",
    "\n",
    "    cost += abs(before_value - after_value)\n",
    "    before_sta_index = sta_index\n",
    "\n",
    "#出力\n",
    "print(cost)"
   ]
  }
 ],
 "metadata": {
  "kernelspec": {
   "display_name": "env",
   "language": "python",
   "name": "python3"
  },
  "language_info": {
   "codemirror_mode": {
    "name": "ipython",
    "version": 3
   },
   "file_extension": ".py",
   "mimetype": "text/x-python",
   "name": "python",
   "nbconvert_exporter": "python",
   "pygments_lexer": "ipython3",
   "version": "3.11.1"
  },
  "orig_nbformat": 4
 },
 "nbformat": 4,
 "nbformat_minor": 2
}
