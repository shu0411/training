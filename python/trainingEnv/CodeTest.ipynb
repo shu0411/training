{
 "cells": [
  {
   "attachments": {},
   "cell_type": "markdown",
   "metadata": {},
   "source": [
    "コードテスト用"
   ]
  },
  {
   "attachments": {},
   "cell_type": "markdown",
   "metadata": {},
   "source": [
    "#入力\n",
    "\n",
    "#処理\n",
    "out = 0\n",
    "\n",
    "#出力\n",
    "print(out)"
   ]
  },
  {
   "cell_type": "code",
   "execution_count": null,
   "metadata": {},
   "outputs": [],
   "source": [
    "input_line = input()\n",
    "in_N,in_X,in_Y = map(int,input_line.split())\n",
    "\n",
    "for i in range(1,in_N + 1):\n",
    "    out = \"\"\n",
    "    if(i % in_X == 0):\n",
    "        out = \"A\"\n",
    "    if(i % in_Y == 0):\n",
    "        out += \"B\"\n",
    "    if(out == \"\"):\n",
    "        out = \"N\"\n",
    "    print(out)"
   ]
  },
  {
   "cell_type": "code",
   "execution_count": null,
   "metadata": {},
   "outputs": [],
   "source": [
    "#入力\n",
    "in_N,in_M = map(int,input().split())\n",
    "\n",
    "list_lines = []\n",
    "for i in range(in_N):\n",
    "    tmp_line = list(map(int,input().split()))\n",
    "    list_lines.append(tmp_line)\n",
    "\n",
    "in_X = int(input())\n",
    "list_route = []\n",
    "for j in range(in_X):\n",
    "    tmp_route = list(map(int,input().split()))\n",
    "    list_route.append(tmp_route)\n",
    "\n",
    "#処理\n",
    "cost = 0\n",
    "before_sta_index = 0\n",
    "before_value = 0\n",
    "for route in list_route:\n",
    "    line_index = route[0] - 1\n",
    "    sta_index = route[1] - 1\n",
    "    before_value = list_lines[line_index][before_sta_index]\n",
    "    after_value = list_lines[line_index][sta_index]\n",
    "\n",
    "    cost += abs(before_value - after_value)\n",
    "    before_sta_index = sta_index\n",
    "\n",
    "#出力\n",
    "print(cost)"
   ]
  },
  {
   "cell_type": "code",
   "execution_count": 2,
   "metadata": {},
   "outputs": [
    {
     "data": {
      "application/vnd.jupyter.widget-view+json": {
       "model_id": "2e040b19e11647afa7a15d123b7c4f8b",
       "version_major": 2,
       "version_minor": 0
      },
      "text/plain": [
       "Textarea(value='')"
      ]
     },
     "metadata": {},
     "output_type": "display_data"
    },
    {
     "name": "stdout",
     "output_type": "stream",
     "text": [
      "aaaa ['xxxx']\n"
     ]
    }
   ],
   "source": [
    "\n",
    "from ipywidgets import Textarea\n",
    "\n",
    "def get_input(change):\n",
    "    global Input\n",
    "    Input=change[\"new\"]\n",
    "\n",
    "textarea = Textarea()\n",
    "textarea.observe(get_input, names='value')\n",
    "display(textarea)\n",
    "\n",
    "#jupyterの別枠で\n",
    "n,*a=Input.split()\n",
    "print(n,a)\n",
    "\n"
   ]
  },
  {
   "cell_type": "code",
   "execution_count": null,
   "metadata": {},
   "outputs": [],
   "source": []
  }
 ],
 "metadata": {
  "kernelspec": {
   "display_name": "env",
   "language": "python",
   "name": "python3"
  },
  "language_info": {
   "codemirror_mode": {
    "name": "ipython",
    "version": 3
   },
   "file_extension": ".py",
   "mimetype": "text/x-python",
   "name": "python",
   "nbconvert_exporter": "python",
   "pygments_lexer": "ipython3",
   "version": "3.11.1"
  },
  "orig_nbformat": 4
 },
 "nbformat": 4,
 "nbformat_minor": 2
}
