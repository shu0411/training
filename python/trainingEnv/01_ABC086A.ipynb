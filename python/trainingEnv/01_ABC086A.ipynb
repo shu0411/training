{
 "cells": [
  {
   "cell_type": "markdown",
   "metadata": {},
   "source": [
    "シカのAtCoDeerくんは二つの正整数 \n",
    "a,b を見つけました。 \n",
    "a と b の積が偶数か奇数か判定してください。\n",
    "制約\n",
    "1 ≤ a,b ≤ 10000\n",
    "a,b は整数\n",
    "入力\n",
    "入力は以下の形式で標準入力から与えられる。\n",
    "a b\n",
    "出力\n",
    "積が奇数なら Odd と、 偶数なら Even と出力せよ。"
   ]
  },
  {
   "cell_type": "code",
   "execution_count": 7,
   "metadata": {},
   "outputs": [
    {
     "name": "stdout",
     "output_type": "stream",
     "text": [
      "Even\n"
     ]
    }
   ],
   "source": [
    "#入力\n",
    "in_ab = input()\n",
    "a,b = map(int,in_ab.split())\n",
    "\n",
    "#処理\n",
    "if a * b % 2 == 1:\n",
    "    out = \"Odd\"\n",
    "else:  \n",
    "    out = \"Even\"\n",
    "\n",
    "#出力\n",
    "print(out)"
   ]
  }
 ],
 "metadata": {
  "kernelspec": {
   "display_name": "Python 3.9.13 ('env': venv)",
   "language": "python",
   "name": "python3"
  },
  "language_info": {
   "codemirror_mode": {
    "name": "ipython",
    "version": 3
   },
   "file_extension": ".py",
   "mimetype": "text/x-python",
   "name": "python",
   "nbconvert_exporter": "python",
   "pygments_lexer": "ipython3",
   "version": "3.9.13"
  },
  "orig_nbformat": 4,
  "vscode": {
   "interpreter": {
    "hash": "ecaf1930e30cd0be128d31f4adae6efd4b139ebeb197599497293c55102f4ebe"
   }
  }
 },
 "nbformat": 4,
 "nbformat_minor": 2
}
