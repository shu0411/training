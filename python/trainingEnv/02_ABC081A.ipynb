{
 "cells": [
  {
   "attachments": {},
   "cell_type": "markdown",
   "metadata": {},
   "source": [
    "すぬけ君は 1,2,3 の番号がついた 3 つのマスからなるマス目を持っています。\n",
    "各マスには 0 か 1 が書かれており、マス i には s i が書かれています。\n",
    "すぬけ君は 1 が書かれたマスにビー玉を置きます。\n",
    "ビー玉が置かれるマスがいくつあるか求めてください。\n",
    "制約\n",
    "s1,s2,s3は 1 あるいは 0\n",
    "入力\n",
    "入力は以下の形式で標準入力から与えられる。\n",
    "s1s2s3\n",
    "出力\n",
    "答えを出力せよ。"
   ]
  },
  {
   "cell_type": "code",
   "execution_count": 1,
   "metadata": {},
   "outputs": [
    {
     "name": "stdout",
     "output_type": "stream",
     "text": [
      "2\n"
     ]
    }
   ],
   "source": [
    "#入力\n",
    "in_s = input()\n",
    "list_s = list(in_s)\n",
    "\n",
    "#処理\n",
    "out = 0\n",
    "\n",
    "for s in list_s:\n",
    "    if s == '1':\n",
    "        out += 1\n",
    "\n",
    "#出力\n",
    "print(str(out))\n"
   ]
  }
 ],
 "metadata": {
  "kernelspec": {
   "display_name": "Python 3",
   "language": "python",
   "name": "python3"
  },
  "language_info": {
   "codemirror_mode": {
    "name": "ipython",
    "version": 3
   },
   "file_extension": ".py",
   "mimetype": "text/x-python",
   "name": "python",
   "nbconvert_exporter": "python",
   "pygments_lexer": "ipython3",
   "version": "3.11.1"
  },
  "orig_nbformat": 4
 },
 "nbformat": 4,
 "nbformat_minor": 2
}
