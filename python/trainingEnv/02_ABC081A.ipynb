{
 "cells": [
  {
   "cell_type": "markdown",
   "metadata": {},
   "source": [
    "すぬけ君は 1,2,3 の番号がついた 3 つのマスからなるマス目を持っています。\n",
    "各マスには 0 か 1 が書かれており、マス i には si が書かれています。\n",
    "すぬけ君は 1 が書かれたマスにビー玉を置きます。 ビー玉が置かれるマスがいくつあるか求めてください。\n",
    "制約\n",
    "s1 ,s2 ,s3 は 1 あるいは 0\n",
    "入力\n",
    "入力は以下の形式で標準入力から与えられる。\n",
    "s1s2s3\n",
    "出力\n",
    "答えを出力せよ。"
   ]
  },
  {
   "cell_type": "code",
   "execution_count": null,
   "metadata": {},
   "outputs": [],
   "source": [
    "#"
   ]
  }
 ],
 "metadata": {
  "kernelspec": {
   "display_name": "Python 3.9.13 ('env': venv)",
   "language": "python",
   "name": "python3"
  },
  "language_info": {
   "name": "python",
   "version": "3.9.13"
  },
  "orig_nbformat": 4,
  "vscode": {
   "interpreter": {
    "hash": "ecaf1930e30cd0be128d31f4adae6efd4b139ebeb197599497293c55102f4ebe"
   }
  }
 },
 "nbformat": 4,
 "nbformat_minor": 2
}
