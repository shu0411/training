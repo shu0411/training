{
 "cells": [
  {
   "cell_type": "markdown",
   "metadata": {},
   "source": [
    "レベルアップ問題集　クラス・構造体"
   ]
  },
  {
   "cell_type": "code",
   "execution_count": 1,
   "metadata": {},
   "outputs": [
    {
     "name": "stdout",
     "output_type": "stream",
     "text": [
      "User{\n",
      "nickname : 1\n",
      "old : 2233\n",
      "birth : 33\n",
      "state : aaaa\n",
      "}\n",
      "User{\n",
      "nickname : 23\n",
      "old : asda\n",
      "birth : asd\n",
      "state : asd\n",
      "}\n"
     ]
    }
   ],
   "source": [
    "#1\n",
    "#1行目入力\n",
    "N = int(input())\n",
    "\n",
    "#2行目~入力と出力\n",
    "for i in range(N):\n",
    "    inputList = input().split()\n",
    "    print(\"User{\")\n",
    "    print(\"nickname : \" + inputList[0])\n",
    "    print(\"old : \" + inputList[1])\n",
    "    print(\"birth : \" + inputList[2])\n",
    "    print(\"state : \" + inputList[3])\n",
    "    print(\"}\")\n"
   ]
  },
  {
   "cell_type": "code",
   "execution_count": 2,
   "metadata": {},
   "outputs": [
    {
     "name": "stdout",
     "output_type": "stream",
     "text": [
      "asd 2 23 as\n"
     ]
    }
   ],
   "source": [
    "#2\n",
    "#1行目入力\n",
    "N = int(input())\n",
    "\n",
    "#2行目~入力\n",
    "inputTable = []\n",
    "for i in range(N):\n",
    "    inputList = input().split()\n",
    "    inputTable.append(inputList)\n",
    "\n",
    "#最終行入力\n",
    "K = input()\n",
    "\n",
    "#検索処理と出力\n",
    "for outputList in inputTable:\n",
    "    if outputList[1] == K:\n",
    "        print(outputList[0])\n",
    "        break\n"
   ]
  },
  {
   "cell_type": "code",
   "execution_count": null,
   "metadata": {},
   "outputs": [],
   "source": [
    "#3\n",
    "#1行目入力\n",
    "N = int(input())\n",
    "\n",
    "#2行目~入力\n",
    "inputTable = []\n",
    "for i in range(N):\n",
    "    inputList = input().split()\n",
    "    inputTable.append(inputList)\n",
    "\n",
    "#ソート\n",
    "inputTable.sort(key=lambda x:x[1])\n",
    "\n",
    "#出力\n",
    "for outputList in inputTable:\n",
    "    print(outputList[0],outputList[1],outputList[2],outputList[3])\n"
   ]
  }
 ],
 "metadata": {
  "kernelspec": {
   "display_name": "env",
   "language": "python",
   "name": "python3"
  },
  "language_info": {
   "codemirror_mode": {
    "name": "ipython",
    "version": 3
   },
   "file_extension": ".py",
   "mimetype": "text/x-python",
   "name": "python",
   "nbconvert_exporter": "python",
   "pygments_lexer": "ipython3",
   "version": "3.9.13"
  },
  "orig_nbformat": 4
 },
 "nbformat": 4,
 "nbformat_minor": 2
}
