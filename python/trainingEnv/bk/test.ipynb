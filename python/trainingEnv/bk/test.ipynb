{
 "cells": [
  {
   "attachments": {},
   "cell_type": "markdown",
   "metadata": {},
   "source": [
    "test"
   ]
  },
  {
   "cell_type": "code",
   "execution_count": 49,
   "metadata": {},
   "outputs": [
    {
     "name": "stdout",
     "output_type": "stream",
     "text": [
      "<built-in function id>\n",
      "1\n"
     ]
    }
   ],
   "source": [
    "b = []\n",
    "r = 0\n",
    "for i in range(3):\n",
    "    b.append(list(input()))\n",
    "\n",
    "for i in range(3):\n",
    "\tr += 1 if b[i][0] == b[i][1] == b[i][2] == \"#\" else 0\n",
    "\tr += 1 if b[0][i] == b[1][i] == b[2][i] == \"#\" else 0\n",
    "\n",
    "r += 1 if b[0][0] == b[1][1] == b[2][2] == \"#\" else 0\n",
    "r += 1 if b[0][2] == b[1][1] == b[2][0] == \"#\" else 0\n",
    "\n",
    "print(r)"
   ]
  }
 ],
 "metadata": {
  "kernelspec": {
   "display_name": "Python 3.9.13 ('env': venv)",
   "language": "python",
   "name": "python3"
  },
  "language_info": {
   "codemirror_mode": {
    "name": "ipython",
    "version": 3
   },
   "file_extension": ".py",
   "mimetype": "text/x-python",
   "name": "python",
   "nbconvert_exporter": "python",
   "pygments_lexer": "ipython3",
   "version": "3.9.13"
  },
  "orig_nbformat": 4,
  "vscode": {
   "interpreter": {
    "hash": "ecaf1930e30cd0be128d31f4adae6efd4b139ebeb197599497293c55102f4ebe"
   }
  }
 },
 "nbformat": 4,
 "nbformat_minor": 2
}
