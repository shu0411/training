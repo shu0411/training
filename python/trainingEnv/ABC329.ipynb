{
 "cells": [
  {
   "cell_type": "code",
   "execution_count": null,
   "metadata": {},
   "outputs": [],
   "source": [
    "#A Spread\n",
    "S = input()\n",
    "\n",
    "list_S = list(S)\n",
    "out_S = \" \".join(list_S)\n",
    "print(out_S)"
   ]
  },
  {
   "cell_type": "code",
   "execution_count": null,
   "metadata": {},
   "outputs": [],
   "source": [
    "#B - Next\n",
    "#入力\n",
    "N = int(input())\n",
    "list_A = list(map(int,input().split()))\n",
    "\n",
    "#処理\n",
    "list_A.sort(reverse=True)\n",
    "\n",
    "max = list_A[0]\n",
    "\n",
    "out = 0\n",
    "\n",
    "for A in list_A:\n",
    "    if A != max:\n",
    "        out = A\n",
    "        break\n",
    "\n",
    "#出力\n",
    "print(out)"
   ]
  },
  {
   "cell_type": "markdown",
   "metadata": {},
   "source": [
    "C方針検討\n",
    "\n",
    "文字数は最大200000。\n",
    "ただし、26文字（もっと言うと文字種類数）以上の検証は不要\n",
    "各文字数ごとの文字列の組み合わせは、文字数！通り\n",
    "\n",
    "前から文字数ごとに切り取りで確認。\n",
    "    チェックする。\n",
    "    同じ文字が含まれている場合は除外。\n",
    "→スピードNG\n",
    "\n",
    "→問題読み違え。「１種類の文字で」できる文字列\n",
    "\n",
    "文字種ごとに最大で連続している個所を見つけ、その文字数を加算すればOK\n"
   ]
  },
  {
   "cell_type": "code",
   "execution_count": 2,
   "metadata": {},
   "outputs": [
    {
     "ename": "KeyboardInterrupt",
     "evalue": "",
     "output_type": "error",
     "traceback": [
      "\u001b[1;31m---------------------------------------------------------------------------\u001b[0m",
      "\u001b[1;31mKeyboardInterrupt\u001b[0m                         Traceback (most recent call last)",
      "\u001b[1;32mc:\\Users\\user\\Training\\training\\python\\trainingEnv\\ABC329.ipynb セル 3\u001b[0m line \u001b[0;36m1\n\u001b[0;32m     <a href='vscode-notebook-cell:/c%3A/Users/user/Training/training/python/trainingEnv/ABC329.ipynb#W4sZmlsZQ%3D%3D?line=16'>17</a>\u001b[0m \u001b[39mfor\u001b[39;00m i \u001b[39min\u001b[39;00m \u001b[39mrange\u001b[39m(\u001b[39m2\u001b[39m,kind\u001b[39m+\u001b[39m\u001b[39m1\u001b[39m):\n\u001b[0;32m     <a href='vscode-notebook-cell:/c%3A/Users/user/Training/training/python/trainingEnv/ABC329.ipynb#W4sZmlsZQ%3D%3D?line=17'>18</a>\u001b[0m     \u001b[39mfor\u001b[39;00m perm_list_S \u001b[39min\u001b[39;00m itertools\u001b[39m.\u001b[39mpermutations(distinct_list_S,i):\n\u001b[1;32m---> <a href='vscode-notebook-cell:/c%3A/Users/user/Training/training/python/trainingEnv/ABC329.ipynb#W4sZmlsZQ%3D%3D?line=18'>19</a>\u001b[0m         check_S \u001b[39m=\u001b[39m \u001b[39m'\u001b[39m\u001b[39m'\u001b[39m\u001b[39m.\u001b[39mjoin(perm_list_S)\n\u001b[0;32m     <a href='vscode-notebook-cell:/c%3A/Users/user/Training/training/python/trainingEnv/ABC329.ipynb#W4sZmlsZQ%3D%3D?line=19'>20</a>\u001b[0m         \u001b[39mif\u001b[39;00m check_S \u001b[39min\u001b[39;00m S:\n\u001b[0;32m     <a href='vscode-notebook-cell:/c%3A/Users/user/Training/training/python/trainingEnv/ABC329.ipynb#W4sZmlsZQ%3D%3D?line=20'>21</a>\u001b[0m             out \u001b[39m+\u001b[39m\u001b[39m=\u001b[39m \u001b[39m1\u001b[39m\n",
      "\u001b[1;31mKeyboardInterrupt\u001b[0m: "
     ]
    }
   ],
   "source": [
    "#C - Count xxx→問題読み違え\n",
    "import itertools\n",
    "\n",
    "#入力\n",
    "N = int(input())\n",
    "S = input()\n",
    "\n",
    "#処理\n",
    "list_S = list(S)\n",
    "distinct_list_S = set(list_S)\n",
    "kind = len(distinct_list_S)\n",
    "\n",
    "#1文字の文字列は必ず文字種類数分作れる\n",
    "out = kind\n",
    "\n",
    "#２文字以上文字種類数以下の文字列を洗い出してinで検証\n",
    "for i in range(2,kind+1):\n",
    "    for perm_list_S in itertools.permutations(distinct_list_S,i):\n",
    "        check_S = ''.join(perm_list_S)\n",
    "        if check_S in S:\n",
    "            out += 1\n",
    "\n",
    "#出力\n",
    "print(out)"
   ]
  },
  {
   "cell_type": "code",
   "execution_count": 15,
   "metadata": {},
   "outputs": [
    {
     "ename": "KeyboardInterrupt",
     "evalue": "",
     "output_type": "error",
     "traceback": [
      "\u001b[1;31m---------------------------------------------------------------------------\u001b[0m",
      "\u001b[1;31mKeyboardInterrupt\u001b[0m                         Traceback (most recent call last)",
      "\u001b[1;32mc:\\Users\\user\\Training\\training\\python\\trainingEnv\\ABC329.ipynb セル 5\u001b[0m line \u001b[0;36m1\n\u001b[0;32m     <a href='vscode-notebook-cell:/c%3A/Users/user/Training/training/python/trainingEnv/ABC329.ipynb#X10sZmlsZQ%3D%3D?line=11'>12</a>\u001b[0m out \u001b[39m=\u001b[39m kind\n\u001b[0;32m     <a href='vscode-notebook-cell:/c%3A/Users/user/Training/training/python/trainingEnv/ABC329.ipynb#X10sZmlsZQ%3D%3D?line=13'>14</a>\u001b[0m \u001b[39m#２文字以上の文字列を検証\u001b[39;00m\n\u001b[1;32m---> <a href='vscode-notebook-cell:/c%3A/Users/user/Training/training/python/trainingEnv/ABC329.ipynb#X10sZmlsZQ%3D%3D?line=14'>15</a>\u001b[0m \u001b[39mfor\u001b[39;00m i \u001b[39min\u001b[39;00m \u001b[39mrange\u001b[39m(\u001b[39m2\u001b[39m,kind\u001b[39m+\u001b[39m\u001b[39m1\u001b[39m):\n\u001b[0;32m     <a href='vscode-notebook-cell:/c%3A/Users/user/Training/training/python/trainingEnv/ABC329.ipynb#X10sZmlsZQ%3D%3D?line=15'>16</a>\u001b[0m     check_list_S \u001b[39m=\u001b[39m []\n\u001b[0;32m     <a href='vscode-notebook-cell:/c%3A/Users/user/Training/training/python/trainingEnv/ABC329.ipynb#X10sZmlsZQ%3D%3D?line=16'>17</a>\u001b[0m     \u001b[39mfor\u001b[39;00m j \u001b[39min\u001b[39;00m \u001b[39mrange\u001b[39m(\u001b[39mlen\u001b[39m(S) \u001b[39m-\u001b[39m i):\n",
      "\u001b[1;32mc:\\Users\\user\\Training\\training\\python\\trainingEnv\\ABC329.ipynb セル 5\u001b[0m line \u001b[0;36m1\n\u001b[0;32m     <a href='vscode-notebook-cell:/c%3A/Users/user/Training/training/python/trainingEnv/ABC329.ipynb#X10sZmlsZQ%3D%3D?line=11'>12</a>\u001b[0m out \u001b[39m=\u001b[39m kind\n\u001b[0;32m     <a href='vscode-notebook-cell:/c%3A/Users/user/Training/training/python/trainingEnv/ABC329.ipynb#X10sZmlsZQ%3D%3D?line=13'>14</a>\u001b[0m \u001b[39m#２文字以上の文字列を検証\u001b[39;00m\n\u001b[1;32m---> <a href='vscode-notebook-cell:/c%3A/Users/user/Training/training/python/trainingEnv/ABC329.ipynb#X10sZmlsZQ%3D%3D?line=14'>15</a>\u001b[0m \u001b[39mfor\u001b[39;00m i \u001b[39min\u001b[39;00m \u001b[39mrange\u001b[39m(\u001b[39m2\u001b[39m,kind\u001b[39m+\u001b[39m\u001b[39m1\u001b[39m):\n\u001b[0;32m     <a href='vscode-notebook-cell:/c%3A/Users/user/Training/training/python/trainingEnv/ABC329.ipynb#X10sZmlsZQ%3D%3D?line=15'>16</a>\u001b[0m     check_list_S \u001b[39m=\u001b[39m []\n\u001b[0;32m     <a href='vscode-notebook-cell:/c%3A/Users/user/Training/training/python/trainingEnv/ABC329.ipynb#X10sZmlsZQ%3D%3D?line=16'>17</a>\u001b[0m     \u001b[39mfor\u001b[39;00m j \u001b[39min\u001b[39;00m \u001b[39mrange\u001b[39m(\u001b[39mlen\u001b[39m(S) \u001b[39m-\u001b[39m i):\n",
      "File \u001b[1;32mc:\\Users\\user\\Training\\training\\python\\trainingEnv\\env\\Lib\\site-packages\\debugpy\\_vendored\\pydevd\\_pydevd_bundle\\pydevd_frame.py:988\u001b[0m, in \u001b[0;36mPyDBFrame.trace_dispatch\u001b[1;34m(self, frame, event, arg)\u001b[0m\n\u001b[0;32m    986\u001b[0m \u001b[39m# if thread has a suspend flag, we suspend with a busy wait\u001b[39;00m\n\u001b[0;32m    987\u001b[0m \u001b[39mif\u001b[39;00m info\u001b[39m.\u001b[39mpydev_state \u001b[39m==\u001b[39m STATE_SUSPEND:\n\u001b[1;32m--> 988\u001b[0m     \u001b[39mself\u001b[39;49m\u001b[39m.\u001b[39;49mdo_wait_suspend(thread, frame, event, arg)\n\u001b[0;32m    989\u001b[0m     \u001b[39mreturn\u001b[39;00m \u001b[39mself\u001b[39m\u001b[39m.\u001b[39mtrace_dispatch\n\u001b[0;32m    990\u001b[0m \u001b[39melse\u001b[39;00m:\n",
      "File \u001b[1;32mc:\\Users\\user\\Training\\training\\python\\trainingEnv\\env\\Lib\\site-packages\\debugpy\\_vendored\\pydevd\\_pydevd_bundle\\pydevd_frame.py:165\u001b[0m, in \u001b[0;36mPyDBFrame.do_wait_suspend\u001b[1;34m(self, *args, **kwargs)\u001b[0m\n\u001b[0;32m    164\u001b[0m \u001b[39mdef\u001b[39;00m \u001b[39mdo_wait_suspend\u001b[39m(\u001b[39mself\u001b[39m, \u001b[39m*\u001b[39margs, \u001b[39m*\u001b[39m\u001b[39m*\u001b[39mkwargs):\n\u001b[1;32m--> 165\u001b[0m     \u001b[39mself\u001b[39;49m\u001b[39m.\u001b[39;49m_args[\u001b[39m0\u001b[39;49m]\u001b[39m.\u001b[39;49mdo_wait_suspend(\u001b[39m*\u001b[39;49margs, \u001b[39m*\u001b[39;49m\u001b[39m*\u001b[39;49mkwargs)\n",
      "File \u001b[1;32mc:\\Users\\user\\Training\\training\\python\\trainingEnv\\env\\Lib\\site-packages\\debugpy\\_vendored\\pydevd\\pydevd.py:2070\u001b[0m, in \u001b[0;36mPyDB.do_wait_suspend\u001b[1;34m(self, thread, frame, event, arg, exception_type)\u001b[0m\n\u001b[0;32m   2067\u001b[0m             from_this_thread\u001b[39m.\u001b[39mappend(frame_custom_thread_id)\n\u001b[0;32m   2069\u001b[0m     \u001b[39mwith\u001b[39;00m \u001b[39mself\u001b[39m\u001b[39m.\u001b[39m_threads_suspended_single_notification\u001b[39m.\u001b[39mnotify_thread_suspended(thread_id, thread, stop_reason):\n\u001b[1;32m-> 2070\u001b[0m         keep_suspended \u001b[39m=\u001b[39m \u001b[39mself\u001b[39;49m\u001b[39m.\u001b[39;49m_do_wait_suspend(thread, frame, event, arg, suspend_type, from_this_thread, frames_tracker)\n\u001b[0;32m   2072\u001b[0m frames_list \u001b[39m=\u001b[39m \u001b[39mNone\u001b[39;00m\n\u001b[0;32m   2074\u001b[0m \u001b[39mif\u001b[39;00m keep_suspended:\n\u001b[0;32m   2075\u001b[0m     \u001b[39m# This means that we should pause again after a set next statement.\u001b[39;00m\n",
      "File \u001b[1;32mc:\\Users\\user\\Training\\training\\python\\trainingEnv\\env\\Lib\\site-packages\\debugpy\\_vendored\\pydevd\\pydevd.py:2106\u001b[0m, in \u001b[0;36mPyDB._do_wait_suspend\u001b[1;34m(self, thread, frame, event, arg, suspend_type, from_this_thread, frames_tracker)\u001b[0m\n\u001b[0;32m   2103\u001b[0m         \u001b[39mself\u001b[39m\u001b[39m.\u001b[39m_call_input_hook()\n\u001b[0;32m   2105\u001b[0m     \u001b[39mself\u001b[39m\u001b[39m.\u001b[39mprocess_internal_commands()\n\u001b[1;32m-> 2106\u001b[0m     time\u001b[39m.\u001b[39msleep(\u001b[39m0.01\u001b[39m)\n\u001b[0;32m   2108\u001b[0m \u001b[39mself\u001b[39m\u001b[39m.\u001b[39mcancel_async_evaluation(get_current_thread_id(thread), \u001b[39mstr\u001b[39m(\u001b[39mid\u001b[39m(frame)))\n\u001b[0;32m   2110\u001b[0m \u001b[39m# process any stepping instructions\u001b[39;00m\n",
      "\u001b[1;31mKeyboardInterrupt\u001b[0m: "
     ]
    }
   ],
   "source": [
    "#C - Count xxx　別\n",
    "#入力\n",
    "N = int(input())\n",
    "S = input()\n",
    "\n",
    "#処理\n",
    "list_S = list(S)\n",
    "distinct_list_S = set(list_S)\n",
    "#kind = len(distinct_list_S)\n",
    "\n",
    "for S in distinct_list_S:\n",
    "    for i in range(N):\n",
    "        \n",
    "\n",
    "    check_list_S = []\n",
    "    for j in range(len(S) - i):\n",
    "        check_S = S[j:j+i]\n",
    "        #文字種類が１種類だけ\n",
    "        if len(check_S) == len(set(check_S)) and check_S not in check_list_S:\n",
    "            check_list_S.append(check_S)\n",
    "    out += len(check_list_S)\n",
    "\n",
    "#出力\n",
    "print(out)"
   ]
  },
  {
   "cell_type": "code",
   "execution_count": 41,
   "metadata": {},
   "outputs": [
    {
     "name": "stdout",
     "output_type": "stream",
     "text": [
      "8\n",
      "8\n",
      "8\n",
      "2\n",
      "8\n",
      "8\n",
      "8\n",
      "2\n"
     ]
    }
   ],
   "source": [
    "#D - Election Quick Report\n",
    "import collections\n",
    "#入力\n",
    "N,M = map(int,input().split())\n",
    "list_A = list(map(int,input().split()))\n",
    "\n",
    "#処理\n",
    "for i in range(1,M+1):\n",
    "    part_list_A = list_A[0:i]\n",
    "    #最大が重複したときid最小の人が採用されるようにソート\n",
    "    part_list_A.sort()\n",
    "    #最頻値１件目を取得（タプル型なのでその１つ目の要素）\n",
    "    max_A = collections.Counter(part_list_A).most_common(1)[0][0]\n",
    "    print(max_A)"
   ]
  },
  {
   "cell_type": "code",
   "execution_count": null,
   "metadata": {},
   "outputs": [],
   "source": [
    "#D - Election Quick Report　チューニング\n",
    "import collections\n",
    "#入力\n",
    "N,M = map(int,input().split())\n",
    "list_A = list(map(int,input().split()))\n",
    "\n",
    "#処理\n",
    "for i in range(1,M+1):\n",
    "    part_list_A = list_A[0:i]\n",
    "    #最大が重複したときid最小の人が採用されるようにソート\n",
    "    part_list_A.sort()\n",
    "    #最頻値１件目を取得（タプル型なのでその１つ目の要素）\n",
    "    max_A = collections.Counter(part_list_A).most_common(1)[0][0]\n",
    "    print(max_A)"
   ]
  },
  {
   "cell_type": "code",
   "execution_count": null,
   "metadata": {},
   "outputs": [],
   "source": [
    "#入力\n",
    "N = input()\n",
    "\n",
    "#処理\n",
    "out = 0\n",
    "\n",
    "#出力\n",
    "print(out)"
   ]
  }
 ],
 "metadata": {
  "kernelspec": {
   "display_name": "env",
   "language": "python",
   "name": "python3"
  },
  "language_info": {
   "codemirror_mode": {
    "name": "ipython",
    "version": 3
   },
   "file_extension": ".py",
   "mimetype": "text/x-python",
   "name": "python",
   "nbconvert_exporter": "python",
   "pygments_lexer": "ipython3",
   "version": "3.11.1"
  }
 },
 "nbformat": 4,
 "nbformat_minor": 2
}
