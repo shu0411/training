{
 "cells": [
  {
   "cell_type": "code",
   "execution_count": null,
   "metadata": {},
   "outputs": [],
   "source": [
    "#A Spread\n",
    "S = input()\n",
    "\n",
    "list_S = list(S)\n",
    "out_S = \" \".join(list_S)\n",
    "print(out_S)"
   ]
  },
  {
   "cell_type": "code",
   "execution_count": null,
   "metadata": {},
   "outputs": [],
   "source": [
    "#B - Next\n",
    "#入力\n",
    "N = int(input())\n",
    "list_A = list(map(int,input().split()))\n",
    "\n",
    "#処理\n",
    "list_A.sort(reverse=True)\n",
    "\n",
    "max = list_A[0]\n",
    "\n",
    "out = 0\n",
    "\n",
    "for A in list_A:\n",
    "    if A != max:\n",
    "        out = A\n",
    "        break\n",
    "\n",
    "#出力\n",
    "print(out)"
   ]
  },
  {
   "cell_type": "markdown",
   "metadata": {},
   "source": [
    "C方針検討\n",
    "\n",
    "文字数は最大200000。\n",
    "ただし、26文字（もっと言うと文字種類数）以上の検証は不要\n",
    "各文字数ごとの文字列の組み合わせは、文字数！通り\n",
    "\n",
    "前から文字数ごとに切り取りで確認。\n",
    "    チェックする。\n",
    "    同じ文字が含まれている場合は除外。\n",
    "→スピードNG\n",
    "\n",
    "→問題読み違え。「１種類の文字で」できる文字列\n",
    "\n",
    "文字種ごとに最大で連続している個所を見つけ、その文字数を加算すればOK\n"
   ]
  },
  {
   "cell_type": "code",
   "execution_count": 1,
   "metadata": {},
   "outputs": [
    {
     "name": "stdout",
     "output_type": "stream",
     "text": [
      "4\n"
     ]
    }
   ],
   "source": [
    "#C - Count xxx→問題読み違え\n",
    "import itertools\n",
    "\n",
    "#入力\n",
    "N = int(input())\n",
    "S = input()\n",
    "\n",
    "#処理\n",
    "list_S = list(S)\n",
    "distinct_list_S = set(list_S)\n",
    "kind = len(distinct_list_S)\n",
    "\n",
    "#1文字の文字列は必ず文字種類数分作れる\n",
    "out = kind\n",
    "\n",
    "#２文字以上文字種類数以下の文字列を洗い出してinで検証\n",
    "for i in range(2,kind+1):\n",
    "    for perm_list_S in itertools.permutations(distinct_list_S,i):\n",
    "        check_S = ''.join(perm_list_S)\n",
    "        if check_S in S:\n",
    "            out += 1\n",
    "\n",
    "#出力\n",
    "print(out)"
   ]
  },
  {
   "cell_type": "code",
   "execution_count": 8,
   "metadata": {},
   "outputs": [
    {
     "name": "stdout",
     "output_type": "stream",
     "text": [
      "9\n"
     ]
    }
   ],
   "source": [
    "#C - Count xxx　別\n",
    "#入力\n",
    "N = int(input())\n",
    "S = input()\n",
    "\n",
    "#処理\n",
    "list_S = list(S)\n",
    "len_S = len(S)\n",
    "distinct_list_S = set(list_S)\n",
    "kind = len(distinct_list_S)\n",
    "\n",
    "out = 0\n",
    "#1文字の文字列は必ず文字種類数分作れる\n",
    "#文字種ごとに２文字以上の文字列を作ってinで検証\n",
    "for tmp_S in distinct_list_S:\n",
    "    check_S = tmp_S\n",
    "    for i in range(1,len_S+1):\n",
    "        check_S += tmp_S\n",
    "\n",
    "        #作った文字列が見つからなければ、今の文字数から1つ引いた数をその文字で作れる部分文字列とする\n",
    "        if check_S not in S:\n",
    "            out += i\n",
    "            break\n",
    "\n",
    "#出力\n",
    "print(out)"
   ]
  },
  {
   "cell_type": "code",
   "execution_count": 9,
   "metadata": {},
   "outputs": [
    {
     "name": "stdout",
     "output_type": "stream",
     "text": [
      "10\n"
     ]
    }
   ],
   "source": [
    "#C - Count xxx　解説後\n",
    "#入力\n",
    "N = int(input())\n",
    "S = input()\n",
    "\n",
    "#処理\n",
    "#文字ごとの連続文字数を格納する。\n",
    "list_count_S = [0]*26\n",
    "before_S = \"\"\n",
    "count_S = 1\n",
    "for char_S in list(S):\n",
    "    if char_S == before_S:\n",
    "        count_S += 1\n",
    "    else:\n",
    "        count_S = 1\n",
    "    \n",
    "    #その時点での連続文字数カウントと、格納されている文字数を比較して、大きいほうを格納\n",
    "    ord_char_S = ord(char_S) - ord(\"a\")\n",
    "    list_count_S[ord_char_S] = max(list_count_S[ord_char_S],count_S)\n",
    "    before_S = char_S\n",
    "\n",
    "out = sum(list_count_S)\n",
    "\n",
    "#出力\n",
    "print(out)"
   ]
  },
  {
   "cell_type": "code",
   "execution_count": 4,
   "metadata": {},
   "outputs": [
    {
     "name": "stdout",
     "output_type": "stream",
     "text": [
      "0\n"
     ]
    }
   ],
   "source": [
    "#test\n",
    "print(ord(\"z\") - ord(\"a\"))"
   ]
  },
  {
   "cell_type": "code",
   "execution_count": 41,
   "metadata": {},
   "outputs": [
    {
     "name": "stdout",
     "output_type": "stream",
     "text": [
      "8\n",
      "8\n",
      "8\n",
      "2\n",
      "8\n",
      "8\n",
      "8\n",
      "2\n"
     ]
    }
   ],
   "source": [
    "#D - Election Quick Report\n",
    "import collections\n",
    "#入力\n",
    "N,M = map(int,input().split())\n",
    "list_A = list(map(int,input().split()))\n",
    "\n",
    "#処理\n",
    "for i in range(1,M+1):\n",
    "    part_list_A = list_A[0:i]\n",
    "    #最大が重複したときid最小の人が採用されるようにソート\n",
    "    part_list_A.sort()\n",
    "    #最頻値１件目を取得（タプル型なのでその１つ目の要素）\n",
    "    max_A = collections.Counter(part_list_A).most_common(1)[0][0]\n",
    "    print(max_A)"
   ]
  },
  {
   "cell_type": "code",
   "execution_count": null,
   "metadata": {},
   "outputs": [],
   "source": [
    "#D - Election Quick Report 解説後\n",
    "import collections\n",
    "#入力\n",
    "N,M = map(int,input().split())\n",
    "list_A = list(map(int,input().split()))\n",
    "\n",
    "#i+1 票目までを開票した場合に当選する候補者は、\n",
    "#i 票目までを開票した場合に当選する候補者あるいは \n",
    "#i+1 票目の投票先となった候補者に限られる。\n",
    "#処理\n",
    "list_count_A = [0] * (N+1)\n",
    "tmp_winner = 0\n",
    "\n",
    "for tmp_A in list_A:\n",
    "    #カウント追加\n",
    "    list_count_A[tmp_A] += 1\n",
    "\n",
    "    #前回当選者と今回投票先の票数に応じて勝者を決定\n",
    "    if list_count_A[tmp_A] > list_count_A[tmp_winner] \\\n",
    "    or ( list_count_A[tmp_A] == list_count_A[tmp_winner] and tmp_A < tmp_winner):\n",
    "        tmp_winner = tmp_A\n",
    "\n",
    "    print(tmp_winner)"
   ]
  },
  {
   "cell_type": "code",
   "execution_count": null,
   "metadata": {},
   "outputs": [],
   "source": [
    "#D - Election Quick Report　チューニング\n",
    "import collections\n",
    "#入力\n",
    "N,M = map(int,input().split())\n",
    "list_A = list(map(int,input().split()))\n",
    "\n",
    "#処理\n",
    "for i in range(1,M+1):\n",
    "    part_list_A = list_A[0:i]\n",
    "    #最大が重複したときid最小の人が採用されるようにソート\n",
    "    part_list_A.sort()\n",
    "    #最頻値１件目を取得（タプル型なのでその１つ目の要素）\n",
    "    max_A = collections.Counter(part_list_A).most_common(1)[0][0]\n",
    "    print(max_A)"
   ]
  },
  {
   "cell_type": "code",
   "execution_count": null,
   "metadata": {},
   "outputs": [],
   "source": [
    "#入力\n",
    "N = input()\n",
    "\n",
    "#処理\n",
    "out = 0\n",
    "\n",
    "#出力\n",
    "print(out)"
   ]
  }
 ],
 "metadata": {
  "kernelspec": {
   "display_name": "env",
   "language": "python",
   "name": "python3"
  },
  "language_info": {
   "codemirror_mode": {
    "name": "ipython",
    "version": 3
   },
   "file_extension": ".py",
   "mimetype": "text/x-python",
   "name": "python",
   "nbconvert_exporter": "python",
   "pygments_lexer": "ipython3",
   "version": "3.11.1"
  }
 },
 "nbformat": 4,
 "nbformat_minor": 2
}
