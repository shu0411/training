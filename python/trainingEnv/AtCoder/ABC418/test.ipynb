{
 "cells": [
  {
   "cell_type": "markdown",
   "metadata": {},
   "source": [
    "C\n",
    "1 4 4 8\n",
    "\n",
    "1→ 1 0 * 4 + 1\n",
    "2→ 5 1 * 4 + 1\n",
    "3→ 8 1 + 2 * 3 + 1\n",
    "4→11 1 + 3 * 3 + 1\n",
    "5→14 1 + 4 * 3 + 1\n",
    "6→15 1 + 4 + 4 + 5 * 1 + 1\n",
    "7→16 1 + 4 + 4 + 6 * 1 + 1\n",
    "8→17 1 + 4 + 4 + 7 * 1 + 1\n",
    "9~ → -1 \n",
    "\n",
    "1 1\n",
    "4 2\n",
    "8 1\n",
    "\n"
   ]
  },
  {
   "cell_type": "markdown",
   "metadata": {},
   "source": [
    "D\n",
    "\n",
    "00 -> o 1\n",
    "01 -> x 0\n",
    "10 -> x 0\n",
    "11 -> o 1\n",
    "\n",
    "000 -> x\n",
    "001 -> o 11 1\n",
    "010 -> o 00 1 ★\n",
    "011 -> o 00 1\n",
    "100 -> o 11 1\n",
    "101 -> x 01 0\n",
    "110 -> o 00 1\n",
    "111 -> o 11 1\n",
    "\n",
    "0000 -> x\n",
    "1111 -> o\n",
    "\n",
    "x001をx11に置き換え\n",
    "100xを11xに置き換え、\n",
    "1001を111に置き換え\n",
    "→1の連続数でnC2"
   ]
  },
  {
   "cell_type": "code",
   "execution_count": null,
   "metadata": {},
   "outputs": [],
   "source": []
  }
 ],
 "metadata": {
  "kernelspec": {
   "display_name": "env",
   "language": "python",
   "name": "python3"
  },
  "language_info": {
   "codemirror_mode": {
    "name": "ipython",
    "version": 3
   },
   "file_extension": ".py",
   "mimetype": "text/x-python",
   "name": "python",
   "nbconvert_exporter": "python",
   "pygments_lexer": "ipython3",
   "version": "3.11.1"
  }
 },
 "nbformat": 4,
 "nbformat_minor": 2
}
