{
 "cells": [
  {
   "cell_type": "code",
   "execution_count": null,
   "metadata": {},
   "outputs": [],
   "source": [
    "#Eを素直にやるとこう\n",
    "#入力\n",
    "N,Q = map(int,input().split())\n",
    "list_x = list(map(int,input().split()))\n",
    "\n",
    "#処理\n",
    "list_A = [0]*N\n",
    "set_S = set()\n",
    "for x in list_x:\n",
    "    if x in set_S:\n",
    "        set_S.remove(x)\n",
    "    else:\n",
    "        set_S.add(x)\n",
    "    len_set_S = len(set_S)\n",
    "    for j in range(N):\n",
    "        if (j+1) in set_S:\n",
    "            list_A[j] += len_set_S\n",
    "\n",
    "#出力\n",
    "out = \"\"\n",
    "for A in list_A:\n",
    "    out += str(A) + \" \"\n",
    "out = out[:-1]\n",
    "print(out)\n",
    "\n",
    "#ただ、これだとO(NQ)でTLEする\n",
    "#なので、O(N+Q)となるように、xのループでの処理を工夫\n",
    "#"
   ]
  },
  {
   "cell_type": "code",
   "execution_count": null,
   "metadata": {},
   "outputs": [],
   "source": [
    "#入力\n",
    "N,Q = map(int,input().split())\n",
    "list_x = list(map(int,input().split()))\n",
    "\n",
    "#処理\n",
    "list_A = [0]*N\n",
    "set_S = set()\n",
    "for x in list_x:\n",
    "    if x in set_S:\n",
    "        set_S.remove(x)\n",
    "    else:\n",
    "        set_S.add(x)\n",
    "    len_set_S = len(set_S)\n",
    "    for s in set_S:\n",
    "        list_A[s-1] += len_set_S\n",
    "\n",
    "#出力\n",
    "x = [str(a) for a in list_A]\n",
    "print(\" \".join(x))"
   ]
  },
  {
   "cell_type": "code",
   "execution_count": null,
   "metadata": {},
   "outputs": [],
   "source": [
    "#入力\n",
    "N,Q = map(int,input().split())\n",
    "list_x = list(map(int,input().split()))\n",
    "\n",
    "#処理\n",
    "table_A = [[0] * N] * Q\n",
    "set_S = set()\n",
    "for i in range(Q):\n",
    "    table_A[i] = table_A[i - 1]\n",
    "    x = list_x[i]\n",
    "    if x in set_S:\n",
    "        set_S.remove(x)\n",
    "    else:\n",
    "        set_S.add(x)\n",
    "    len_set_S = len(set_S)\n",
    "    for s in set_S:\n",
    "        table_A[i][s-1] += len_set_S\n",
    "\n",
    "#出力\n",
    "list_A = table_A[-1]\n",
    "print(*list_A)"
   ]
  },
  {
   "cell_type": "markdown",
   "metadata": {},
   "source": [
    "4 6\n",
    "1 2 3 2 4 2\n",
    "\n",
    "0 0 0 0\n",
    "\n",
    "1->  1 0  0 0\n",
    "2->  3 2  0 0\n",
    "3->  6 5  3 0\n",
    "2->  8 5  5 0\n",
    "4-> 11 5  8 3\n",
    "2-> 15 9 12 7\n",
    "\n",
    "i時点でのsetとその時のlen(set_S)を保持。\n",
    "xごとに登場した回だけ足す。\n",
    "\n",
    "N個\n",
    "＊Q行　の配列を作る\n",
    "Q行につき、set_Sに含まれるjだけ、len(set_S)を足す\n",
    "\n"
   ]
  },
  {
   "cell_type": "code",
   "execution_count": null,
   "metadata": {},
   "outputs": [],
   "source": []
  }
 ],
 "metadata": {
  "kernelspec": {
   "display_name": "env",
   "language": "python",
   "name": "python3"
  },
  "language_info": {
   "codemirror_mode": {
    "name": "ipython",
    "version": 3
   },
   "file_extension": ".py",
   "mimetype": "text/x-python",
   "name": "python",
   "nbconvert_exporter": "python",
   "pygments_lexer": "ipython3",
   "version": "3.11.1"
  }
 },
 "nbformat": 4,
 "nbformat_minor": 2
}
