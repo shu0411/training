{
 "cells": [
  {
   "cell_type": "code",
   "execution_count": 1,
   "metadata": {},
   "outputs": [
    {
     "name": "stdout",
     "output_type": "stream",
     "text": [
      "101010101\n"
     ]
    }
   ],
   "source": [
    "#A\n",
    "#入力\n",
    "N = int(input())\n",
    "\n",
    "#処理\n",
    "out = \"\"\n",
    "for i in range(N):\n",
    "    out += \"10\"\n",
    "\n",
    "out += \"1\"\n",
    "\n",
    "#出力\n",
    "print(out)"
   ]
  },
  {
   "cell_type": "markdown",
   "metadata": {},
   "source": [
    "（B試行）\n",
    "4\n",
    "5 7 0 3\n",
    "2 2\n",
    "4 3\n",
    "5 2\n",
    "\n",
    "N\n",
    "A\n",
    "S T\n",
    "\n",
    "前から順\n",
    "1>>2\n",
    "1 11 0 3\n",
    "2>>3\n",
    "1 3 6 3\n",
    "1 3 1 5\n",
    "\n",
    "前からMAX交換していけばよさそう。\n",
    "各行の操作：\n",
    "    AiがSで、何回われるか。\n",
    "    商の分、TをかけてAi+1に足す。\n"
   ]
  },
  {
   "cell_type": "code",
   "execution_count": 4,
   "metadata": {},
   "outputs": [
    {
     "name": "stdout",
     "output_type": "stream",
     "text": [
      "5\n"
     ]
    }
   ],
   "source": [
    "#B\n",
    "#入力\n",
    "N = int(input())\n",
    "A = list(map(int,input().split()))\n",
    "\n",
    "#処理\n",
    "for i in range(N-1):\n",
    "    S,T = map(int,input().split())\n",
    "    sho = A[i] // S\n",
    "    A[i+1] += T * sho\n",
    "\n",
    "#出力\n",
    "print(A[N-1])"
   ]
  },
  {
   "cell_type": "markdown",
   "metadata": {},
   "source": [
    "C試行\n",
    "H W N\n",
    "T（LRUD）\n",
    "S（Wこの文字H行）\n",
    ".:riku\n",
    "#:umi\n",
    "​012345\n",
    "###### 0\n",
    "###### 1\n",
    "##...# 2\n",
    "##...# 3\n",
    "##...# 4\n",
    "###### 5\n",
    "\n",
    "最低限、LとR、UとDの個数の差分、端から離れている必要がある。\n",
    "\n",
    "あとはたどって、可能な枠の分、Tの文字数分、"
   ]
  },
  {
   "cell_type": "code",
   "execution_count": null,
   "metadata": {},
   "outputs": [],
   "source": [
    "#C\n",
    "#入力\n",
    "H,W,N = map(int,input().split())\n",
    "T = input()\n",
    "table_S = []\n",
    "table_S.append([\"#\"]*(W+1))\n",
    "for i in range(H):\n",
    "    list_S = [\"#\"] + list(input())\n",
    "    table_S.append(list_S)\n",
    "\n",
    "#処理\n",
    "out = 0 #可能性のあるスタート位置の数\n",
    "\n",
    "#スタート位置を候補範囲から全探索\n",
    "for h in range(2,H):\n",
    "    for w in range(2,W):\n",
    "        now_h = h\n",
    "        now_w = w\n",
    "        isOK = True\n",
    "        if table_S[now_h][now_w] == \"#\":\n",
    "            isOK = False\n",
    "            continue\n",
    "        for t in T:\n",
    "            if t == \"L\":\n",
    "                now_w -= 1\n",
    "            elif t == \"R\":\n",
    "                now_w += 1\n",
    "            elif t == \"U\":\n",
    "                now_h -= 1\n",
    "            elif t == \"D\":\n",
    "                now_h += 1\n",
    "            if table_S[now_h][now_w] == \"#\":\n",
    "                isOK = False\n",
    "                break\n",
    "        if isOK:\n",
    "            out += 1\n",
    "\n",
    "#出力\n",
    "print(out)"
   ]
  },
  {
   "cell_type": "code",
   "execution_count": 18,
   "metadata": {},
   "outputs": [
    {
     "ename": "ValueError",
     "evalue": "not enough values to unpack (expected 3, got 0)",
     "output_type": "error",
     "traceback": [
      "\u001b[1;31m---------------------------------------------------------------------------\u001b[0m",
      "\u001b[1;31mValueError\u001b[0m                                Traceback (most recent call last)",
      "Cell \u001b[1;32mIn[18], line 2\u001b[0m\n\u001b[0;32m      1\u001b[0m \u001b[38;5;66;03m#入力\u001b[39;00m\n\u001b[1;32m----> 2\u001b[0m H,W,N \u001b[38;5;241m=\u001b[39m \u001b[38;5;28mmap\u001b[39m(\u001b[38;5;28mint\u001b[39m,\u001b[38;5;28minput\u001b[39m()\u001b[38;5;241m.\u001b[39msplit())\n\u001b[0;32m      3\u001b[0m T \u001b[38;5;241m=\u001b[39m \u001b[38;5;28minput\u001b[39m()\n\u001b[0;32m      4\u001b[0m table_S \u001b[38;5;241m=\u001b[39m []\n",
      "\u001b[1;31mValueError\u001b[0m: not enough values to unpack (expected 3, got 0)"
     ]
    }
   ],
   "source": [
    "#C別案\n",
    "#入力\n",
    "H,W,N = map(int,input().split())\n",
    "T = input()\n",
    "table_S = []\n",
    "table_S.append([\"#\"]*(W+1))\n",
    "for i in range(H):\n",
    "    list_S = [\"#\"] + list(input())\n",
    "    table_S.append(list_S)\n",
    "\n",
    "#処理\n",
    "out = 0 #可能性のあるスタート位置の数\n",
    "\n",
    "#Tに含まれる、L,R,U,Dの数を数え、スタート位置からの可動範囲を求める\n",
    "L,R,U,D = 0,0,0,0\n",
    "max_L = 0\n",
    "max_R = 0\n",
    "max_U = 0\n",
    "max_D = 0\n",
    "for i in T:\n",
    "    if i == \"L\":\n",
    "        L += 1\n",
    "        max_L = max(max_L,L-R)\n",
    "    elif i == \"R\":\n",
    "        R += 1\n",
    "        max_R = max(max_R,R-L)\n",
    "    elif i == \"U\":\n",
    "        U += 1\n",
    "        max_U = max(max_U,U-D)\n",
    "    elif i == \"D\":\n",
    "        D += 1\n",
    "        max_D = max(max_D,D-U)\n",
    "\n",
    "#スタート位置の候補の範囲\n",
    "from_L = 2+max_L\n",
    "from_R = W-1-max_R\n",
    "from_U = 2+max_U\n",
    "from_D = H-1-max_D\n",
    "\n",
    "#スタート位置を候補範囲から全探索\n",
    "for h in range(from_U,from_D+1):\n",
    "    for w in range(from_L,from_R+1):\n",
    "        now_h = h\n",
    "        now_w = w\n",
    "        isOK = True\n",
    "        if table_S[now_h][now_w] == \"#\":\n",
    "            isOK = False\n",
    "            continue\n",
    "        for t in T:\n",
    "            if t == \"L\":\n",
    "                now_w -= 1\n",
    "            elif t == \"R\":\n",
    "                now_w += 1\n",
    "            elif t == \"U\":\n",
    "                now_h -= 1\n",
    "            elif t == \"D\":\n",
    "                now_h += 1\n",
    "            if table_S[now_h][now_w] == \"#\":\n",
    "                isOK = False\n",
    "                break\n",
    "        if isOK:\n",
    "            out += 1\n",
    "\n",
    "#出力\n",
    "print(out)"
   ]
  },
  {
   "cell_type": "code",
   "execution_count": null,
   "metadata": {},
   "outputs": [],
   "source": []
  },
  {
   "cell_type": "code",
   "execution_count": null,
   "metadata": {},
   "outputs": [],
   "source": [
    "#入力\n",
    "\n",
    "#処理\n",
    "out = 0\n",
    "\n",
    "#出力\n",
    "print(out)"
   ]
  }
 ],
 "metadata": {
  "kernelspec": {
   "display_name": "env",
   "language": "python",
   "name": "python3"
  },
  "language_info": {
   "codemirror_mode": {
    "name": "ipython",
    "version": 3
   },
   "file_extension": ".py",
   "mimetype": "text/x-python",
   "name": "python",
   "nbconvert_exporter": "python",
   "pygments_lexer": "ipython3",
   "version": "3.11.1"
  }
 },
 "nbformat": 4,
 "nbformat_minor": 2
}
