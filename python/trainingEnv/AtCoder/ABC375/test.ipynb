{
 "cells": [
  {
   "cell_type": "code",
   "execution_count": null,
   "metadata": {},
   "outputs": [],
   "source": [
    "tmp = \"ABCDE\"\n",
    "out = \"\"\n",
    "for _ in range(2 * 10 ** 5 // 5):\n",
    "    out += tmp\n",
    "print(out)"
   ]
  },
  {
   "cell_type": "markdown",
   "metadata": {},
   "source": [
    "２，５\n",
    "間の数→2\n",
    "2,5,10\n",
    "間の数→7+4 = 11\n",
    "つぎに１６が来た\n",
    "２，５，１０，１６\n",
    "２と１３→１０　 ７＋１＋２\n",
    "５と１３→７     ４＋１＋２\n",
    "１０と１３→ ２         ＋２"
   ]
  }
 ],
 "metadata": {
  "kernelspec": {
   "display_name": "env",
   "language": "python",
   "name": "python3"
  },
  "language_info": {
   "codemirror_mode": {
    "name": "ipython",
    "version": 3
   },
   "file_extension": ".py",
   "mimetype": "text/x-python",
   "name": "python",
   "nbconvert_exporter": "python",
   "pygments_lexer": "ipython3",
   "version": "3.11.1"
  }
 },
 "nbformat": 4,
 "nbformat_minor": 2
}
