{
 "cells": [
  {
   "cell_type": "markdown",
   "metadata": {},
   "source": [
    "2 51 3 50 50\n",
    "1 0  1 0  1\n",
    "\n",
    "1を残す、ほかの1を消す→2+3\n",
    "\n",
    "2 3 50 49 51\n",
    "1 0 1  0  1\n",
    "1を残す、間の0を消す→2+49\n",
    "\n",
    "2 3 3 49 4\n",
    "1 0 1 0  1\n",
    "1を残す、ほかの1を消す→2+3\n",
    "\n",
    "1が1個以上→必ずMAXの1を残す\n",
    "それとの間隔が自身より長い→自身の1を0にする。\n",
    "自身以下→間の0を1にする"
   ]
  },
  {
   "cell_type": "code",
   "execution_count": 4,
   "metadata": {},
   "outputs": [
    {
     "name": "stdout",
     "output_type": "stream",
     "text": [
      "22\n"
     ]
    }
   ],
   "source": [
    "a = \"0101010011100111010101\"\n",
    "print(len(a))"
   ]
  }
 ],
 "metadata": {
  "kernelspec": {
   "display_name": "env",
   "language": "python",
   "name": "python3"
  },
  "language_info": {
   "codemirror_mode": {
    "name": "ipython",
    "version": 3
   },
   "file_extension": ".py",
   "mimetype": "text/x-python",
   "name": "python",
   "nbconvert_exporter": "python",
   "pygments_lexer": "ipython3",
   "version": "3.11.1"
  }
 },
 "nbformat": 4,
 "nbformat_minor": 2
}
