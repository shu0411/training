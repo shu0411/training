{
 "cells": [
  {
   "cell_type": "code",
   "execution_count": 2,
   "metadata": {},
   "outputs": [
    {
     "name": "stdout",
     "output_type": "stream",
     "text": [
      "1 2 3 4 5\n"
     ]
    }
   ],
   "source": [
    "N = 5\n",
    "list = [i for i in range(1,N+1)]\n",
    "print(*list)"
   ]
  },
  {
   "cell_type": "markdown",
   "metadata": {},
   "source": [
    "D\n",
    "7 111\n",
    "2 010\n",
    "4 100\n",
    "1 001"
   ]
  },
  {
   "cell_type": "markdown",
   "metadata": {},
   "source": [
    "E_timeup\n",
    "a,b\n",
    "dp[i+1][a][b] = dp[i][a-a[i]][b]+value[i]\n",
    "dp[i+1][a][b] = dp[i][a][b-b[i]]+value[i]"
   ]
  },
  {
   "cell_type": "markdown",
   "metadata": {},
   "source": [
    "E_after\n",
    "dp[i+1][a] = max(dp[i][a-A[i]],dp[i][a]+B[i])"
   ]
  }
 ],
 "metadata": {
  "kernelspec": {
   "display_name": "env",
   "language": "python",
   "name": "python3"
  },
  "language_info": {
   "codemirror_mode": {
    "name": "ipython",
    "version": 3
   },
   "file_extension": ".py",
   "mimetype": "text/x-python",
   "name": "python",
   "nbconvert_exporter": "python",
   "pygments_lexer": "ipython3",
   "version": "3.11.1"
  }
 },
 "nbformat": 4,
 "nbformat_minor": 2
}
