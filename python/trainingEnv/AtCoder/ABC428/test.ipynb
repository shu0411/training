{
 "cells": [
  {
   "cell_type": "markdown",
   "metadata": {},
   "source": [
    "183 1\n",
    "~\n",
    "183 9\n",
    "183 10\n",
    "~\n",
    "183 99\n",
    "183 100\n",
    "183 184 ★\n",
    "~\n",
    "183 999\n",
    "183 1000\n",
    "~\n",
    "183 5183 ★\n",
    "183 9999\n",
    "→これらについて、"
   ]
  }
 ],
 "metadata": {
  "kernelspec": {
   "display_name": "env",
   "language": "python",
   "name": "python3"
  },
  "language_info": {
   "codemirror_mode": {
    "name": "ipython",
    "version": 3
   },
   "file_extension": ".py",
   "mimetype": "text/x-python",
   "name": "python",
   "nbconvert_exporter": "python",
   "pygments_lexer": "ipython3",
   "version": "3.11.1"
  }
 },
 "nbformat": 4,
 "nbformat_minor": 2
}
