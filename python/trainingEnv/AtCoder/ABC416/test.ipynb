{
 "cells": [
  {
   "cell_type": "markdown",
   "metadata": {},
   "source": [
    "a\n",
    "bb\n",
    "cc\n",
    "aa\n",
    "dd\n",
    "\n",
    "aa\n",
    "abb\n",
    "acc\n",
    "aaa\n",
    "add\n",
    "aaa\n",
    "aabb\n",
    "aacc\n",
    "aaaa\n",
    "aadd"
   ]
  },
  {
   "cell_type": "markdown",
   "metadata": {},
   "source": [
    "N=3,K=4のとき\n",
    "0000\n",
    "1000\n",
    "2000\n",
    "0100\n",
    "1100\n",
    "2100\n",
    "0200\n",
    "\n"
   ]
  },
  {
   "cell_type": "markdown",
   "metadata": {},
   "source": [
    "D\n",
    "3\n",
    "3 6\n",
    "3 1 4\n",
    "2 0 1\n",
    "1 1000000000\n",
    "999999999\n",
    "999999999\n",
    "10 201\n",
    "144 150 176 154 110 187 38 136 111 46\n",
    "96 109 73 63 85 1 156 7 13 171"
   ]
  },
  {
   "cell_type": "markdown",
   "metadata": {},
   "source": [
    "3 5\n",
    "1 2 4\n",
    "1 2 3\n",
    "\n",
    "1 4 2\n",
    "1 2 3\n",
    "→3\n",
    "\n",
    "3 2 1\n",
    "2 4 1"
   ]
  }
 ],
 "metadata": {
  "kernelspec": {
   "display_name": ".venv",
   "language": "python",
   "name": "python3"
  },
  "language_info": {
   "codemirror_mode": {
    "name": "ipython",
    "version": 3
   },
   "file_extension": ".py",
   "mimetype": "text/x-python",
   "name": "python",
   "nbconvert_exporter": "python",
   "pygments_lexer": "ipython3",
   "version": "3.10.6"
  }
 },
 "nbformat": 4,
 "nbformat_minor": 2
}
