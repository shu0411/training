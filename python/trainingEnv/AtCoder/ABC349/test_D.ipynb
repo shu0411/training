{
 "cells": [
  {
   "cell_type": "markdown",
   "metadata": {},
   "source": [
    "総当たりする。\n",
    "3 19\n",
    "\n",
    "3 4　2**2\n",
    "4 8\n",
    "8 16\n",
    "16 18 2**4\n",
    "18 19\n",
    "\n",
    "→方針変更：\n",
    "lを超える最小の２**i→a\n",
    "rを超えない最大の2**i→b\n",
    "これをつなぐ。\n",
    "l→a→b→r\n",
    "\n",
    "3 22\n",
    "3 → 4 → 16 → 22 1 2 2\n",
    "3 4 8 16 20 22 \n",
    "\n",
    "32 38 → 32 36 38 "
   ]
  },
  {
   "cell_type": "code",
   "execution_count": 5,
   "metadata": {},
   "outputs": [
    {
     "name": "stdout",
     "output_type": "stream",
     "text": [
      "52\n"
     ]
    }
   ],
   "source": [
    "l = 3940649673945088\n",
    "for i in range(60):\n",
    "    i2 = 2 ** i\n",
    "    if l < i2:\n",
    "        print(i)\n",
    "        break"
   ]
  },
  {
   "cell_type": "code",
   "execution_count": 4,
   "metadata": {},
   "outputs": [
    {
     "name": "stdout",
     "output_type": "stream",
     "text": [
      "2251799813685248\n",
      "no\n",
      "4503599627370496\n",
      "yes\n"
     ]
    }
   ],
   "source": [
    "l = 3940649673945088\n",
    "\n",
    "print(2 ** 51)\n",
    "if l < 2 ** 51:\n",
    "    print('yes')\n",
    "else:\n",
    "    print('no')\n",
    "print(2 ** 52)\n",
    "if l < 2 ** 52:\n",
    "    print('yes')\n",
    "else:\n",
    "    print('no')"
   ]
  },
  {
   "cell_type": "code",
   "execution_count": 6,
   "metadata": {},
   "outputs": [
    {
     "name": "stdout",
     "output_type": "stream",
     "text": [
      "1152921504606846976\n"
     ]
    }
   ],
   "source": [
    "print(2 ** 60)"
   ]
  }
 ],
 "metadata": {
  "kernelspec": {
   "display_name": "Python 3",
   "language": "python",
   "name": "python3"
  },
  "language_info": {
   "codemirror_mode": {
    "name": "ipython",
    "version": 3
   },
   "file_extension": ".py",
   "mimetype": "text/x-python",
   "name": "python",
   "nbconvert_exporter": "python",
   "pygments_lexer": "ipython3",
   "version": "3.10.6"
  }
 },
 "nbformat": 4,
 "nbformat_minor": 2
}
