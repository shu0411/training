{
 "cells": [
  {
   "cell_type": "markdown",
   "metadata": {},
   "source": [
    "D\n",
    "パターンを整理する\n",
    "\n",
    "(0,0)～(4,2)の範囲のパターンは\n",
    "1 2 1 0\n",
    "2 1 0 1\n",
    "→ここの合計は8\n",
    "これが繰り返されているだけ。\n",
    "ここからはみ出している部分を考慮していく\n",
    "\n",
    "-1 -2 1 3のとき\n",
    "x座標-1~1なので、ぱたーんはなし。\n",
    "x座標0~1のところ：y座標-2~2はパターン*2で3*2、y座標3は2→8\n",
    "x座標-1~0のところ：y座標-2~2はパターン*2で1*2、y座標3は1→3"
   ]
  },
  {
   "cell_type": "code",
   "execution_count": null,
   "metadata": {},
   "outputs": [],
   "source": []
  }
 ],
 "metadata": {
  "kernelspec": {
   "display_name": "env",
   "language": "python",
   "name": "python3"
  },
  "language_info": {
   "codemirror_mode": {
    "name": "ipython",
    "version": 3
   },
   "file_extension": ".py",
   "mimetype": "text/x-python",
   "name": "python",
   "nbconvert_exporter": "python",
   "pygments_lexer": "ipython3",
   "version": "3.11.1"
  }
 },
 "nbformat": 4,
 "nbformat_minor": 2
}
