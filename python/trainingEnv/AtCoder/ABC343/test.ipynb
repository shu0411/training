{
 "cells": [
  {
   "cell_type": "code",
   "execution_count": 4,
   "metadata": {},
   "outputs": [
    {
     "name": "stdout",
     "output_type": "stream",
     "text": [
      "6.999999999999999\n",
      "6.999999999999999\n",
      "1.2413658170152087\n",
      "216\n"
     ]
    }
   ],
   "source": [
    "#C 立方数の判定の精度の確認\n",
    "import math\n",
    "input = 343\n",
    "print(input**(1/3))\n",
    "print(math.pow(input, 1/3))\n",
    "print(input**(1/3)**3)\n",
    "print(int(input**(1/3))**3)"
   ]
  },
  {
   "cell_type": "code",
   "execution_count": 16,
   "metadata": {},
   "outputs": [
    {
     "name": "stdout",
     "output_type": "stream",
     "text": [
      "[1, 8, 343, 1331, 1030301, 1367631, 1003003001, 10662526601, 1000300030001, 1030607060301, 1334996994331, 1000030000300001, 1033394994933301, 1331399339931331, 1000003000003000001]\n",
      "15\n"
     ]
    }
   ],
   "source": [
    "#C 立方回文数の数の確認\n",
    "i = 0\n",
    "check = True\n",
    "number = 0\n",
    "list_n = []\n",
    "while check:\n",
    "    i += 1\n",
    "    number = i ** 3\n",
    "    if number == int(str(number)[::-1]):\n",
    "        list_n.append(number)\n",
    "    if number > (10 ** 18):\n",
    "        check = False\n",
    "print(list_n)\n",
    "print(len(list_n))"
   ]
  },
  {
   "cell_type": "code",
   "execution_count": 19,
   "metadata": {},
   "outputs": [
    {
     "ename": "InvalidOperation",
     "evalue": "[<class 'decimal.ConversionSyntax'>]",
     "output_type": "error",
     "traceback": [
      "\u001b[1;31m---------------------------------------------------------------------------\u001b[0m",
      "\u001b[1;31mInvalidOperation\u001b[0m                          Traceback (most recent call last)",
      "Cell \u001b[1;32mIn[19], line 2\u001b[0m\n\u001b[0;32m      1\u001b[0m \u001b[38;5;28;01mfrom\u001b[39;00m \u001b[38;5;21;01mdecimal\u001b[39;00m \u001b[38;5;28;01mimport\u001b[39;00m Decimal\n\u001b[1;32m----> 2\u001b[0m \u001b[38;5;28mprint\u001b[39m(Decimal(\u001b[38;5;124m'\u001b[39m\u001b[38;5;124m64\u001b[39m\u001b[38;5;124m'\u001b[39m)\u001b[38;5;241m*\u001b[39m\u001b[38;5;241m*\u001b[39m\u001b[43mDecimal\u001b[49m\u001b[43m(\u001b[49m\u001b[38;5;124;43m'\u001b[39;49m\u001b[38;5;124;43m1/3\u001b[39;49m\u001b[38;5;124;43m'\u001b[39;49m\u001b[43m)\u001b[49m)\n\u001b[0;32m      3\u001b[0m N \u001b[38;5;241m=\u001b[39m \u001b[38;5;241m1000000\u001b[39m\n\u001b[0;32m      4\u001b[0m check \u001b[38;5;241m=\u001b[39m N\n",
      "\u001b[1;31mInvalidOperation\u001b[0m: [<class 'decimal.ConversionSyntax'>]"
     ]
    }
   ],
   "source": [
    "#C検証\n",
    "N = 1000000\n",
    "check = N\n",
    "for i in range(N):\n",
    "    check = N - i\n",
    "    if int(check**(1/3))**3 == check:\n",
    "        print(check)\n",
    "        break\n"
   ]
  },
  {
   "cell_type": "code",
   "execution_count": null,
   "metadata": {},
   "outputs": [],
   "source": [
    "#D 検証\n"
   ]
  },
  {
   "cell_type": "markdown",
   "metadata": {},
   "source": [
    "D考え\n",
    "最初は1種類\n",
    "\n",
    "種類数：1行ごとに1増えるorそのままor1減る\n",
    "増える条件：前の数字に他の人がいる、かつ次の数字に他の人がいない\n",
    "そのままの条件①：前の数字に他の人がいる、かつ次の数字にも他の人がいる\n",
    "そのままの条件②：前の数字に他の人がいない、かつ次の数字にも他の人がいない\n",
    "1減る条件：前の数字に他の人がいない、かつ次の数字にも他の人がいる\n",
    "\n",
    "現在の数字の種類の配列を作る\n",
    "加算なので、自分自身より大きい値があるかないかで判定できる。\n",
    "\n",
    "→シンプルに辞書を使って作る。★後で試す"
   ]
  }
 ],
 "metadata": {
  "kernelspec": {
   "display_name": "env",
   "language": "python",
   "name": "python3"
  },
  "language_info": {
   "codemirror_mode": {
    "name": "ipython",
    "version": 3
   },
   "file_extension": ".py",
   "mimetype": "text/x-python",
   "name": "python",
   "nbconvert_exporter": "python",
   "pygments_lexer": "ipython3",
   "version": "3.11.1"
  }
 },
 "nbformat": 4,
 "nbformat_minor": 2
}
