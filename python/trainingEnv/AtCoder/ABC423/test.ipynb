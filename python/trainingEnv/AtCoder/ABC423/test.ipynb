{
 "cells": [
  {
   "cell_type": "markdown",
   "metadata": {},
   "source": [
    "1\n",
    "12\n",
    " 2\n",
    "22"
   ]
  },
  {
   "cell_type": "markdown",
   "metadata": {},
   "source": [
    "1\n",
    "12\n",
    "123\n",
    " 23\n",
    " 2\n",
    "  3\n",
    "\n",
    "343\n",
    "1*3\n",
    " 2*2\n",
    "  3*1"
   ]
  },
  {
   "cell_type": "markdown",
   "metadata": {},
   "source": [
    "1\n",
    "12\n",
    "123\n",
    "1234\n",
    " 2\n",
    " 23\n",
    " 234\n",
    "  3\n",
    "  34\n",
    "   4\n",
    "\n",
    "4664"
   ]
  },
  {
   "cell_type": "markdown",
   "metadata": {},
   "source": [
    "1\n",
    "12\n",
    "123\n",
    "1234\n",
    "12345\n",
    " 2\n",
    " 23\n",
    " 234\n",
    " 2345\n",
    "  3\n",
    "  34\n",
    "  345\n",
    "   4\n",
    "   45\n",
    "    5\n",
    "58985\n",
    "5*1\n",
    " 4*2\n",
    "  3*3\n",
    "   2*4\n",
    "    1*5\n",
    "\n",
    "    1\n",
    "   21\n",
    "  321\n",
    " 4321\n",
    "54321\n",
    "\n",
    "1-5\n",
    "\n",
    "2-4 \n"
   ]
  },
  {
   "cell_type": "code",
   "execution_count": null,
   "metadata": {},
   "outputs": [],
   "source": []
  }
 ],
 "metadata": {
  "kernelspec": {
   "display_name": "env",
   "language": "python",
   "name": "python3"
  },
  "language_info": {
   "codemirror_mode": {
    "name": "ipython",
    "version": 3
   },
   "file_extension": ".py",
   "mimetype": "text/x-python",
   "name": "python",
   "nbconvert_exporter": "python",
   "pygments_lexer": "ipython3",
   "version": "3.11.1"
  }
 },
 "nbformat": 4,
 "nbformat_minor": 2
}
