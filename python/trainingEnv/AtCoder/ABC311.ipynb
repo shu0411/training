{
 "cells": [
  {
   "cell_type": "code",
   "execution_count": 6,
   "metadata": {},
   "outputs": [
    {
     "ename": "ValueError",
     "evalue": "invalid literal for int() with base 10: ''",
     "output_type": "error",
     "traceback": [
      "\u001b[1;31m---------------------------------------------------------------------------\u001b[0m",
      "\u001b[1;31mValueError\u001b[0m                                Traceback (most recent call last)",
      "Cell \u001b[1;32mIn[6], line 3\u001b[0m\n\u001b[0;32m      1\u001b[0m \u001b[39m#ABC311\u001b[39;00m\n\u001b[0;32m      2\u001b[0m \u001b[39m#A\u001b[39;00m\n\u001b[1;32m----> 3\u001b[0m N \u001b[39m=\u001b[39m \u001b[39mint\u001b[39;49m(\u001b[39minput\u001b[39;49m())\n\u001b[0;32m      4\u001b[0m S \u001b[39m=\u001b[39m \u001b[39mlist\u001b[39m(\u001b[39minput\u001b[39m())\n\u001b[0;32m      5\u001b[0m exA \u001b[39m=\u001b[39m \u001b[39mFalse\u001b[39;00m\n",
      "\u001b[1;31mValueError\u001b[0m: invalid literal for int() with base 10: ''"
     ]
    }
   ],
   "source": [
    "#ABC311\n",
    "#A\n",
    "N = int(input())\n",
    "S = list(input())\n",
    "exA = False\n",
    "exB = False\n",
    "exC = False\n",
    "for i,checkS in enumerate(S):\n",
    "    if checkS == \"A\":\n",
    "        exA = True\n",
    "    if checkS == \"B\":\n",
    "        exB = True\n",
    "    if checkS == \"C\":\n",
    "        exC = True\n",
    "    if exA and exB and exC:\n",
    "        print(i + 1)\n",
    "        break"
   ]
  },
  {
   "cell_type": "code",
   "execution_count": 13,
   "metadata": {},
   "outputs": [
    {
     "name": "stdout",
     "output_type": "stream",
     "text": [
      "2\n"
     ]
    }
   ],
   "source": [
    "#B\n",
    "N,D = list(map(int,input().split()))\n",
    "listS = []\n",
    "countDay = 0\n",
    "maxCountDay = 0\n",
    "for i in range(N):\n",
    "    inS = list(input())\n",
    "    listS.append(inS)\n",
    "for j in range(D):\n",
    "    checkDay = True\n",
    "    for checkS in listS:\n",
    "        if checkS[j] == \"x\":\n",
    "            checkDay = False\n",
    "    if checkDay:\n",
    "        countDay += 1\n",
    "    else:\n",
    "        countDay = 0\n",
    "    maxCountDay = max(maxCountDay,countDay)\n",
    "print(maxCountDay)"
   ]
  }
 ],
 "metadata": {
  "kernelspec": {
   "display_name": "env",
   "language": "python",
   "name": "python3"
  },
  "language_info": {
   "codemirror_mode": {
    "name": "ipython",
    "version": 3
   },
   "file_extension": ".py",
   "mimetype": "text/x-python",
   "name": "python",
   "nbconvert_exporter": "python",
   "pygments_lexer": "ipython3",
   "version": "3.9.13"
  },
  "orig_nbformat": 4
 },
 "nbformat": 4,
 "nbformat_minor": 2
}
