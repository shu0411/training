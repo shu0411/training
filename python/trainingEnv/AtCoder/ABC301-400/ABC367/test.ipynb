{
 "cells": [
  {
   "cell_type": "code",
   "execution_count": 6,
   "metadata": {},
   "outputs": [
    {
     "name": "stdout",
     "output_type": "stream",
     "text": [
      "[8, 16]\n"
     ]
    }
   ],
   "source": [
    "#C 試行\n",
    "N = 4\n",
    "K = 8\n",
    "list_sum = list(range(K, N*5+1, K))\n",
    "print(list_sum)"
   ]
  },
  {
   "cell_type": "code",
   "execution_count": null,
   "metadata": {},
   "outputs": [],
   "source": [
    "#C 関数の試行\n",
    "def make_list(in_num, input_list):\n",
    "    if in_num == 0:\n",
    "        return [[]]\n",
    "    else:\n",
    "        tmp_list = make_list(in_num-1, input_list)\n",
    "        return [y + [x] for x in range(1, input_list[in_num-1]+1) for y in tmp_list]\n",
    "\n",
    "N = 5\n",
    "list_R = [2, 3, 4, 5, 4]\n",
    "\n",
    "make_list = make_list(N, list_R)\n",
    "for list in make_list:\n",
    "    print(list)"
   ]
  },
  {
   "cell_type": "code",
   "execution_count": null,
   "metadata": {},
   "outputs": [],
   "source": [
    "list_A = [9, 9, 8, 2, 4, 4, 3, 5, 3, 9, 9, 8, 2, 4, 4, 3, 5, 3,]\n",
    "cumsum = [0]\n",
    "for i in range(18):\n",
    "    cumsum.append(cumsum[-1] + list_A[i])\n",
    "print(cumsum)\n",
    "for i in range(1, 18):\n",
    "    print(cumsum[i] - cumsum[i-1])"
   ]
  }
 ],
 "metadata": {
  "kernelspec": {
   "display_name": "env",
   "language": "python",
   "name": "python3"
  },
  "language_info": {
   "codemirror_mode": {
    "name": "ipython",
    "version": 3
   },
   "file_extension": ".py",
   "mimetype": "text/x-python",
   "name": "python",
   "nbconvert_exporter": "python",
   "pygments_lexer": "ipython3",
   "version": "3.11.1"
  }
 },
 "nbformat": 4,
 "nbformat_minor": 2
}
