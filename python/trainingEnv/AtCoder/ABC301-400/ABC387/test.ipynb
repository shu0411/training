{
 "cells": [
  {
   "cell_type": "code",
   "execution_count": 18,
   "metadata": {},
   "outputs": [
    {
     "name": "stdout",
     "output_type": "stream",
     "text": [
      "2025\n"
     ]
    },
    {
     "name": "stdout",
     "output_type": "stream",
     "text": [
      "285\n",
      "45\n"
     ]
    }
   ],
   "source": [
    "out = 0\n",
    "N = 3\n",
    "for i in range(1,10):\n",
    "    out += i ** N\n",
    "print(out)\n",
    "\n",
    "out = 0\n",
    "N = 2\n",
    "for i in range(1,10):\n",
    "    out += i ** N\n",
    "print(out)\n",
    "\n",
    "out = 0\n",
    "N = 1\n",
    "for i in range(1,10):\n",
    "    out += i ** N\n",
    "print(out)"
   ]
  },
  {
   "cell_type": "markdown",
   "metadata": {},
   "source": [
    "R =7565\n",
    "\n",
    "最後の数（7000台の計算）\n",
    "７４９９までの全部→４＊４＊４\n",
    "７５００以降→\n",
    "    7559まで→６＊６\n",
    "    7560以降→５\n",
    "\n",
    "R =7575\n",
    "\n",
    "最後の数（7000台の計算）\n",
    "７４９９までの全部→４＊４＊４\n",
    "７５００以降→\n",
    "    7569までの全部→７＊７\n",
    "\n",
    "R =7766\n",
    "\n",
    "最後の数（7000台の計算）\n",
    "７６９９までの全部→６＊６＊６\n"
   ]
  },
  {
   "cell_type": "code",
   "execution_count": 64,
   "metadata": {},
   "outputs": [
    {
     "name": "stdout",
     "output_type": "stream",
     "text": [
      "53\n"
     ]
    }
   ],
   "source": [
    "#関数\n",
    "#その桁以下のヘビ数の個数を返す再帰関数\n",
    "#i:上からの桁数\n",
    "#firstN:最上位の数字\n",
    "#strN:元の数字\n",
    "def count_snake_sub(i, strN):\n",
    "    ret = 0\n",
    "    nowN = int(strN[i])\n",
    "    lenN = len(strN)\n",
    "    firstN = int(strN[0])\n",
    "\n",
    "    if i == lenN-1:\n",
    "        #最後の桁の場合\n",
    "        return min(nowN + 1, firstN)\n",
    "    else:\n",
    "        #最後の桁以外の場合\n",
    "        if nowN >= firstN:\n",
    "            #最上位の数字以上の場合\n",
    "            ret += firstN ** (lenN-i)\n",
    "        else:\n",
    "            #最上位の数字より小さい場合\n",
    "            ret += nowN * (firstN ** (lenN-i-1))\n",
    "            ret += count_snake_sub(i+1, strN)\n",
    "        return ret\n",
    "\n",
    "def count_snake(n):\n",
    "    ret = 0\n",
    "    strN = str(n)\n",
    "    lenN = len(strN)\n",
    "    firstN = int(strN[0])\n",
    "    secondN = int(strN[1])\n",
    "\n",
    "    #1からRまでのヘビ数の個数\n",
    "    #1つ前の桁まで\n",
    "    for i in range(2,lenN):\n",
    "        for j in range(1,10):\n",
    "            ret += j**(i-1)\n",
    "\n",
    "    #最後の桁(1つ前の数字まで)\n",
    "    for i in range(1,firstN):\n",
    "        ret += i**(lenN-1)\n",
    "\n",
    "    #最後の桁(最後の数字)\n",
    "    ret += count_snake_sub(1, strN)\n",
    "        \n",
    "    return ret\n",
    "\n",
    "print(count_snake(302))"
   ]
  }
 ],
 "metadata": {
  "kernelspec": {
   "display_name": ".venv",
   "language": "python",
   "name": "python3"
  },
  "language_info": {
   "codemirror_mode": {
    "name": "ipython",
    "version": 3
   },
   "file_extension": ".py",
   "mimetype": "text/x-python",
   "name": "python",
   "nbconvert_exporter": "python",
   "pygments_lexer": "ipython3",
   "version": "3.10.6"
  }
 },
 "nbformat": 4,
 "nbformat_minor": 2
}
