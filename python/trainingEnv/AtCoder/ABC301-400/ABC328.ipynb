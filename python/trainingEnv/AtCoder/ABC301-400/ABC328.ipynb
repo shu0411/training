{
 "cells": [
  {
   "cell_type": "markdown",
   "metadata": {},
   "source": [
    "A - Not Too Hard"
   ]
  },
  {
   "cell_type": "code",
   "execution_count": 2,
   "metadata": {},
   "outputs": [
    {
     "name": "stdout",
     "output_type": "stream",
     "text": [
      "499\n"
     ]
    }
   ],
   "source": [
    "#入力\n",
    "N,X = map(int,input().split())\n",
    "list_S = list(map(int,input().split()))\n",
    "\n",
    "#処理\n",
    "out = 0\n",
    "for s in list_S:\n",
    "    if s <= X:\n",
    "        out += s\n",
    "\n",
    "#出力\n",
    "print(out)"
   ]
  },
  {
   "cell_type": "markdown",
   "metadata": {},
   "source": [
    "B - 11/11"
   ]
  },
  {
   "cell_type": "code",
   "execution_count": 29,
   "metadata": {},
   "outputs": [
    {
     "name": "stdout",
     "output_type": "stream",
     "text": [
      "0\n"
     ]
    }
   ],
   "source": [
    "#入力\n",
    "N = int(input())\n",
    "list_D = list(map(int,input().split()))\n",
    "\n",
    "#処理\n",
    "out = 0\n",
    "for i,d in enumerate(list_D):\n",
    "    #月の検証\n",
    "    month = i + 1\n",
    "    #月が同じ数字だけでできているかチェック（1桁の月はスルー）\n",
    "    m_result = True\n",
    "    if month <= 9:   #1桁の月\n",
    "        #1桁なので月の数字をチェックする数字に\n",
    "        check_number = month\n",
    "    else:   #2桁以上の月\n",
    "        list_m_number = list(str(month))\n",
    "        #一番上の桁をチェックする数字に\n",
    "        check_number = int(list_m_number[0])\n",
    "        #全桁チェックする数字と同じか検証\n",
    "        for m_number in list_m_number:\n",
    "            if m_number != str(check_number):\n",
    "                m_result = False\n",
    "                break\n",
    "    \n",
    "    if not m_result:\n",
    "        continue\n",
    "\n",
    "    #日の検証\n",
    "    #日数がチェックする数字より小さかったらゾロ目になることはない\n",
    "    if d < check_number:\n",
    "        break\n",
    "    else:\n",
    "        #桁数取得\n",
    "        length = len(str(d))\n",
    "        #最大桁のゾロ目取得\n",
    "        str_check_max_number = \"\"\n",
    "        for j in range(length):\n",
    "            str_check_max_number += str(check_number)\n",
    "        check_max_number = int(str_check_max_number)\n",
    "\n",
    "        #最大桁のゾロ目だけチェック、最大桁OKなら桁数分ゾロ目あり。そうでなければ桁数-1個ゾロ目あり\n",
    "        if d >= check_max_number:\n",
    "            out += length\n",
    "        else:\n",
    "            out += length - 1\n",
    "\n",
    "#出力\n",
    "print(out)"
   ]
  },
  {
   "cell_type": "code",
   "execution_count": 44,
   "metadata": {},
   "outputs": [
    {
     "name": "stdout",
     "output_type": "stream",
     "text": [
      "3\n"
     ]
    }
   ],
   "source": [
    "#B考え直し\n",
    "#入力\n",
    "N = int(input())\n",
    "list_D = list(map(int,input().split()))\n",
    "\n",
    "#処理\n",
    "out = 0\n",
    "for i,d in enumerate(list_D):\n",
    "    #月の検証\n",
    "    month = i + 1\n",
    "    #月が同じ数字だけでできているかチェック（1桁の月はスルー）\n",
    "    m_result = True\n",
    "    if month <= 9:   #1桁の月\n",
    "        #1桁なので月の数字をチェックする数字に\n",
    "        check_number = month\n",
    "    elif month <= 99:   #2桁の月\n",
    "        #10の位と1の位が同じなら、チェックする数字をセット、違ったら次へ\n",
    "        m_number1,m_number2 = map(int,list(str(month)))\n",
    "        if m_number1 == m_number2:\n",
    "            check_number = m_number1\n",
    "        else:\n",
    "            continue\n",
    "    else:\n",
    "        break\n",
    "\n",
    "    #日の検証\n",
    "    #日数がチェックする数字より小さかったらゾロ目になることはない\n",
    "    if d < check_number:\n",
    "        break\n",
    "    elif d <= 9:   #1桁日数の月\n",
    "        if d >= check_number:\n",
    "            out += 1\n",
    "    else:   #2桁日数の月\n",
    "        check_max_number = check_number * 10 + check_number\n",
    "        \n",
    "        #2桁のゾロ目だけチェック、2桁OKなら2、NGなら1追加\n",
    "        if d >= check_max_number:\n",
    "            out += 2\n",
    "        else:\n",
    "            out += 1\n",
    "\n",
    "#出力\n",
    "print(out)"
   ]
  },
  {
   "cell_type": "code",
   "execution_count": 86,
   "metadata": {},
   "outputs": [
    {
     "name": "stdout",
     "output_type": "stream",
     "text": [
      "15\n"
     ]
    }
   ],
   "source": [
    "#B解説後\n",
    "#入力\n",
    "N = int(input())\n",
    "list_D = list(map(int,input().split()))\n",
    "\n",
    "#処理\n",
    "out = 0\n",
    "for i,d in enumerate(list_D):\n",
    "    month = i + 1\n",
    "    for j in range(d):\n",
    "        day = j + 1\n",
    "        #日付を文字列にしてくっつける\n",
    "        check_str = str(month) + str(day)\n",
    "        #文字の種類を取得\n",
    "        set_str = set(check_str)\n",
    "        #種類数で判定\n",
    "        if(len(set_str) == 1):\n",
    "            out += 1\n",
    "\n",
    "#出力\n",
    "print(out)"
   ]
  },
  {
   "cell_type": "code",
   "execution_count": 30,
   "metadata": {},
   "outputs": [
    {
     "name": "stdout",
     "output_type": "stream",
     "text": [
      "['1', '3', '2', '1']\n",
      "7\n",
      "5555\n",
      "8\n",
      "9\n"
     ]
    }
   ],
   "source": [
    "month = 1321\n",
    "list_m_number = list(str(month))\n",
    "#list_m_number = str(month).split()\n",
    "print(list_m_number)\n",
    "\n",
    "leng = len('1223345')\n",
    "print(leng)\n",
    "\n",
    "d = 2134\n",
    "check_number = 5\n",
    "length = len(str(d))\n",
    "#最大桁のゾロ目取得\n",
    "str_check_max_number = \"\"\n",
    "for j in range(length):\n",
    "    str_check_max_number += str(check_number)\n",
    "check_max_number = int(str_check_max_number)\n",
    "print(check_max_number)\n",
    "\n",
    "month = 89\n",
    "m_number1,m_number2 = map(int,list(str(month)))\n",
    "print(m_number1)\n",
    "print(m_number2)\n"
   ]
  },
  {
   "cell_type": "code",
   "execution_count": null,
   "metadata": {},
   "outputs": [],
   "source": [
    "#C\n",
    "#入力\n",
    "N,Q = map(int,input().split())\n",
    "S = input()\n",
    "\n",
    "#処理、出力\n",
    "for i in range(Q):\n",
    "    l,r = list(map(int,input().split()))\n",
    "    out = 0\n",
    "    #l文字目からr文字目まで切り取り\n",
    "    check_str = S[l-1:r]\n",
    "    #チェック\n",
    "    for j in range( len(check_str) - 1 ):\n",
    "        if check_str[j] == check_str[j+1]:\n",
    "            out += 1\n",
    "\n",
    "    #出力\n",
    "    print(out)"
   ]
  },
  {
   "cell_type": "code",
   "execution_count": 54,
   "metadata": {},
   "outputs": [
    {
     "name": "stdout",
     "output_type": "stream",
     "text": [
      "2\n"
     ]
    }
   ],
   "source": [
    "#C考え直し\n",
    "#入力\n",
    "N,Q = map(int,input().split())\n",
    "S = input()\n",
    "\n",
    "#事前チェック\n",
    "list_check_int = []\n",
    "for i in range(len(S) - 1):\n",
    "    if S[i] == S[i+1]:\n",
    "        list_check_int.append(1)\n",
    "    else:\n",
    "        list_check_int.append(0)\n",
    "\n",
    "#処理、出力\n",
    "for i in range(Q):\n",
    "    l,r = map(int,input().split())\n",
    "    #l文字目からr文字目までのチェック結果を加算\n",
    "    out = sum(list_check_int[l-1:r-1])\n",
    "    \n",
    "    #出力\n",
    "    print(out)"
   ]
  },
  {
   "cell_type": "code",
   "execution_count": 88,
   "metadata": {},
   "outputs": [
    {
     "name": "stdout",
     "output_type": "stream",
     "text": [
      "2\n",
      "2\n",
      "0\n",
      "0\n"
     ]
    }
   ],
   "source": [
    "#C解説後\n",
    "#入力\n",
    "N,Q = map(int,input().split())\n",
    "S = input()\n",
    "\n",
    "#事前チェック\n",
    "tmp = 0\n",
    "sum = 0\n",
    "list_sum_int = [0]\n",
    "for i in range(len(S) - 1):\n",
    "    if S[i] == S[i+1]:\n",
    "        tmp = 1\n",
    "    else:\n",
    "        tmp = 0\n",
    "\n",
    "    #先頭からi文字目までの合計回数を加算して配列に格納\n",
    "    sum += tmp\n",
    "    list_sum_int.append(sum)\n",
    "\n",
    "#処理、出力\n",
    "for i in range(Q):\n",
    "    l,r = map(int,input().split())\n",
    "    #l文字目からr文字目までのチェック結果を加算\n",
    "    out = list_sum_int[r-1] - list_sum_int[l-1]\n",
    "    \n",
    "    #出力\n",
    "    print(out)"
   ]
  },
  {
   "cell_type": "code",
   "execution_count": 50,
   "metadata": {},
   "outputs": [
    {
     "name": "stdout",
     "output_type": "stream",
     "text": [
      "i\n"
     ]
    }
   ],
   "source": [
    "S = 'mississippi'\n",
    "l = 2\n",
    "r = 2\n",
    "check_str = S[l-1:r]\n",
    "print(check_str)"
   ]
  },
  {
   "cell_type": "code",
   "execution_count": 71,
   "metadata": {},
   "outputs": [
    {
     "name": "stdout",
     "output_type": "stream",
     "text": [
      "AAABBBCCC\n"
     ]
    }
   ],
   "source": [
    "#D\n",
    "#入力\n",
    "S = input()\n",
    "\n",
    "#処理\n",
    "out = \"\"\n",
    "tmp_S = S\n",
    "while(True):\n",
    "    for i in range(len(tmp_S) - 2):\n",
    "        if tmp_S[i] == \"A\" and tmp_S[i+1] == \"B\" and tmp_S[i+2] == \"C\":\n",
    "            after_S = tmp_S[:i] + tmp_S[i+3:]\n",
    "            break\n",
    "    if tmp_S == after_S:\n",
    "        out = after_S\n",
    "        break\n",
    "    else:\n",
    "        tmp_S = after_S\n",
    "\n",
    "#出力\n",
    "print(out)"
   ]
  },
  {
   "cell_type": "code",
   "execution_count": null,
   "metadata": {},
   "outputs": [],
   "source": [
    "#D解説後\n",
    "#入力\n",
    "S = input()\n",
    "\n",
    "#処理\n",
    "out = \"\"\n",
    "tmp_S = S\n",
    "while(True):\n",
    "    for i in range(len(tmp_S) - 2):\n",
    "        if tmp_S[i] == \"A\" and tmp_S[i+1] == \"B\" and tmp_S[i+2] == \"C\":\n",
    "            after_S = tmp_S[:i] + tmp_S[i+3:]\n",
    "            break\n",
    "    if tmp_S == after_S:\n",
    "        out = after_S\n",
    "        break\n",
    "    else:\n",
    "        tmp_S = after_S\n",
    "\n",
    "#出力\n",
    "print(out)"
   ]
  },
  {
   "cell_type": "code",
   "execution_count": null,
   "metadata": {},
   "outputs": [],
   "source": [
    "#入力\n",
    "\n",
    "#処理\n",
    "out = 0\n",
    "\n",
    "#出力\n",
    "print(out)"
   ]
  }
 ],
 "metadata": {
  "kernelspec": {
   "display_name": "env",
   "language": "python",
   "name": "python3"
  },
  "language_info": {
   "codemirror_mode": {
    "name": "ipython",
    "version": 3
   },
   "file_extension": ".py",
   "mimetype": "text/x-python",
   "name": "python",
   "nbconvert_exporter": "python",
   "pygments_lexer": "ipython3",
   "version": "3.9.13"
  }
 },
 "nbformat": 4,
 "nbformat_minor": 2
}
