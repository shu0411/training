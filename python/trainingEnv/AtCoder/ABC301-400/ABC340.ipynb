{
 "cells": [
  {
   "cell_type": "code",
   "execution_count": 4,
   "metadata": {},
   "outputs": [
    {
     "name": "stdout",
     "output_type": "stream",
     "text": [
      "10\n"
     ]
    }
   ],
   "source": [
    "#A\n",
    "#入力\n",
    "A,B,D = map(int,input().split())\n",
    "out = A\n",
    "list_out = [A]\n",
    "#処理\n",
    "num = (B - A) // D + 1\n",
    "for i in range(1,num):\n",
    "    list_out.append(A + D * i)\n",
    "\n",
    "#出力\n",
    "print(' '.join(map(str, list_out)))"
   ]
  },
  {
   "cell_type": "code",
   "execution_count": 5,
   "metadata": {},
   "outputs": [
    {
     "name": "stdout",
     "output_type": "stream",
     "text": [
      "30\n",
      "20\n"
     ]
    }
   ],
   "source": [
    "#入力\n",
    "Q = int(input())\n",
    "\n",
    "#処理\n",
    "list_A = []\n",
    "for i in range(Q):\n",
    "    #入力\n",
    "    type,num = input().split()\n",
    "    #処理、出力\n",
    "    if type == '1':\n",
    "        list_A.append(int(num))\n",
    "    else:\n",
    "        print(list_A[-int(num)])\n"
   ]
  },
  {
   "cell_type": "code",
   "execution_count": 94,
   "metadata": {},
   "outputs": [
    {
     "name": "stdout",
     "output_type": "stream",
     "text": [
      "680\n"
     ]
    }
   ],
   "source": [
    "#C 基本的な考え\n",
    "import math\n",
    "\n",
    "#入力\n",
    "N = int(input())\n",
    "\n",
    "#処理\n",
    "out = 0\n",
    "list_blackboard = [N]\n",
    "continue_flag = True\n",
    "while continue_flag:\n",
    "    #最大が1なら終了\n",
    "    if max(list_blackboard) == 1:\n",
    "        continue_flag = False\n",
    "    \n",
    "    #1を削除\n",
    "    list_blackboard = [n for n in list_blackboard if n != 1]\n",
    "    \n",
    "    #1以外の処理\n",
    "    new_list_blackboard = []\n",
    "    out += sum(list_blackboard)\n",
    "    new_list_blackboard = [math.floor(num / 2) for num in list_blackboard]\n",
    "    new_list_blackboard += [math.ceil(num / 2) for num in list_blackboard]\n",
    "    list_blackboard = new_list_blackboard\n",
    "\n",
    "#出力\n",
    "print(out)\n"
   ]
  },
  {
   "cell_type": "markdown",
   "metadata": {},
   "source": [
    "C　計算量検討\n",
    "100\n",
    "\n",
    "50 * 2\n",
    "\n",
    "25 * 4\n",
    "\n",
    "13 * 4 + 12 * 4\n",
    "\n",
    "7 * 4 + 6 * 4 + 6 * 8\n",
    "\n",
    "黒板に書かれた数字と個数のリスト\n",
    "\n",
    "→偶数は 数字を/2　個数を*2\n",
    "奇数は　数字を/2Ceil 個数そのまま　数字を/2Floor 個数そのまま\n",
    "→繰り返し"
   ]
  },
  {
   "cell_type": "code",
   "execution_count": 93,
   "metadata": {},
   "outputs": [
    {
     "name": "stdout",
     "output_type": "stream",
     "text": [
      "680\n"
     ]
    }
   ],
   "source": [
    "#C 再検討\n",
    "import math\n",
    "\n",
    "#クラス\n",
    "class bb_number:\n",
    "    def __init__(self,num,qt):\n",
    "        self.num = num\n",
    "        self.qt = qt\n",
    "    num = 0\n",
    "    qt = 1\n",
    "\n",
    "#入力\n",
    "N = int(input())\n",
    "\n",
    "#処理\n",
    "out = 0\n",
    "list_blackboard = [bb_number(N,1)]\n",
    "while 1==1:\n",
    "    #1を削除\n",
    "    list_blackboard = [bn for bn in list_blackboard if bn.num != 1]\n",
    "    \n",
    "    if len(list_blackboard) == 0:\n",
    "        break\n",
    "\n",
    "    #1以外の処理\n",
    "    new_list_blackboard = []\n",
    "    for bn in list_blackboard:\n",
    "        out += int(bn.num * bn.qt)\n",
    "        if bn.num % 2 == 0:\n",
    "            new_list_blackboard.append(bb_number(int(bn.num / 2), bn.qt * 2))\n",
    "        else:\n",
    "            new_list_blackboard.append(bb_number(bn.num // 2, bn.qt))\n",
    "            new_list_blackboard.append(bb_number(bn.num // 2 + 1, bn.qt))\n",
    "    \n",
    "    #new_list_blackboardのうち、同じnumのものをまとめてqtを足す\n",
    "    new_list_blackboard.sort(key=lambda x: x.num)\n",
    "    new_list_blackboard2 = []\n",
    "\n",
    "    for i in range(len(new_list_blackboard)):\n",
    "        if i == 0:\n",
    "            continue\n",
    "        if new_list_blackboard[i].num == new_list_blackboard[i-1].num:\n",
    "            new_list_blackboard[i].qt += new_list_blackboard[i-1].qt\n",
    "        else:\n",
    "            new_list_blackboard2.append(new_list_blackboard[i-1])\n",
    "            \n",
    "    new_list_blackboard2.append(new_list_blackboard[-1])\n",
    "\n",
    "    list_blackboard = new_list_blackboard2\n",
    "\n",
    "#出力\n",
    "print(out)\n",
    "\n",
    "#微妙にエラー有り\n",
    "\n"
   ]
  },
  {
   "cell_type": "code",
   "execution_count": 79,
   "metadata": {},
   "outputs": [
    {
     "ename": "TypeError",
     "evalue": "'str' object cannot be interpreted as an integer",
     "output_type": "error",
     "traceback": [
      "\u001b[1;31m---------------------------------------------------------------------------\u001b[0m",
      "\u001b[1;31mTypeError\u001b[0m                                 Traceback (most recent call last)",
      "Cell \u001b[1;32mIn[79], line 7\u001b[0m\n\u001b[0;32m      5\u001b[0m \u001b[38;5;66;03m#処理\u001b[39;00m\n\u001b[0;32m      6\u001b[0m ans_A \u001b[38;5;241m=\u001b[39m \u001b[38;5;241m0\u001b[39m\n\u001b[1;32m----> 7\u001b[0m \u001b[38;5;28;01mfor\u001b[39;00m i \u001b[38;5;129;01min\u001b[39;00m \u001b[38;5;28;43mrange\u001b[39;49m\u001b[43m(\u001b[49m\u001b[43mN\u001b[49m\u001b[43m)\u001b[49m:\n\u001b[0;32m      8\u001b[0m     A,B,X \u001b[38;5;241m=\u001b[39m \u001b[38;5;28mmap\u001b[39m(\u001b[38;5;28mint\u001b[39m,\u001b[38;5;28minput\u001b[39m()\u001b[38;5;241m.\u001b[39msplit())\n\u001b[0;32m     10\u001b[0m     \u001b[38;5;66;03m#直接Nに行ける場合の秒数\u001b[39;00m\n",
      "\u001b[1;31mTypeError\u001b[0m: 'str' object cannot be interpreted as an integer"
     ]
    }
   ],
   "source": [
    "#D\n",
    "#入力\n",
    "N = input()\n",
    "\n",
    "#処理\n",
    "ans_A = 0\n",
    "for i in range(N):\n",
    "    A,B,X = map(int,input().split())\n",
    "\n",
    "    #直接Nに行ける場合の秒数\n",
    "    if X == N:\n",
    "        ans_B = B\n",
    "\n",
    "    #直接Nに行けない場合の秒数\n",
    "    ans_A += A  \n",
    "\n",
    "#出力\n",
    "print(max(ans_A,ans_B))"
   ]
  },
  {
   "cell_type": "code",
   "execution_count": null,
   "metadata": {},
   "outputs": [],
   "source": [
    "#入力\n",
    "\n",
    "#処理\n",
    "out = 0\n",
    "\n",
    "#出力\n",
    "print(out)"
   ]
  }
 ],
 "metadata": {
  "kernelspec": {
   "display_name": "env",
   "language": "python",
   "name": "python3"
  },
  "language_info": {
   "codemirror_mode": {
    "name": "ipython",
    "version": 3
   },
   "file_extension": ".py",
   "mimetype": "text/x-python",
   "name": "python",
   "nbconvert_exporter": "python",
   "pygments_lexer": "ipython3",
   "version": "3.9.13"
  }
 },
 "nbformat": 4,
 "nbformat_minor": 2
}
