{
 "cells": [
  {
   "cell_type": "code",
   "execution_count": null,
   "metadata": {},
   "outputs": [],
   "source": []
  },
  {
   "cell_type": "markdown",
   "metadata": {},
   "source": [
    "A\n",
    "入力例2\n",
    "3\n",
    "1 3 2\n",
    "R?L\n",
    "\n",
    "1が行動→2を取る\n",
    "3が行動→3を取る\n",
    "2が行動→nもn+1もないのでNG\n",
    "\n",
    "3\n",
    "1 3 2\n",
    "R??\n",
    "1が行動→2を取る\n",
    "3がLの場合、\n",
    "    3が行動→3を取る\n",
    "    2がLの場合\n",
    "        2が行動→2がない→3がない→NG\n",
    "    2がRの場合\n",
    "        2が行動→3がない→2がない→NG\n",
    "3がRの場合、\n",
    "    3が行動→1を取る\n",
    "    2がLの場合\n",
    "        2が行動→2がない→3を取る\n",
    "    2がRの場合\n",
    "        2が行動→3を取る\n",
    "\n",
    "それぞれの人について、\n",
    "考えられる状況は\n",
    "・自分(i)がLで、スプーンiがx、スプーンi+1がx→ＮＧ\n",
    "・自分(i)がLで、スプーンiがx、スプーンi+1がo→i+1を取る\n",
    "・自分(i)がLで、スプーンiがo、スプーンi+1がx→iを取る\n",
    "・自分(i)がLで、スプーンiがo、スプーンi+1がo→iを取る\n",
    "・自分(i)がRで、スプーンiがx、スプーンi+1がx→ＮＧ\n",
    "・自分(i)がRで、スプーンiがx、スプーンi+1がo→i+1を取る\n",
    "・自分(i)がRで、スプーンiがo、スプーンi+1がx→iを取る\n",
    "・自分(i)がRで、スプーンiがo、スプーンi+1がo→i+1を取る\n",
    "\n",
    "・スプーンiがx、スプーンi+1がx→ＮＧ\n",
    "・スプーンiがo、スプーンi+1がx→iを取る\n",
    "・スプーンiがx、スプーンi+1がo→i+1を取る\n",
    "・スプーンiがo、スプーンi+1がo、自分(i)がL  →iを取る\n",
    "・スプーンiがo、スプーンi+1がo、自分(i)がR  →i+1を取る"
   ]
  },
  {
   "cell_type": "code",
   "execution_count": 3,
   "metadata": {},
   "outputs": [
    {
     "name": "stdout",
     "output_type": "stream",
     "text": [
      "9\n",
      "5\n"
     ]
    }
   ],
   "source": [
    "#B\n",
    "S = \"))()((((()()((\"\n",
    "S = \"()()(((())()))\"\n",
    "#\"(\"\")\"の数を数える\n",
    "left = 0\n",
    "right = 0\n",
    "for i in range(len(S)):\n",
    "    if S[i] == \"(\":\n",
    "        left += 1\n",
    "    else:\n",
    "        right += 1\n",
    "print(left)\n",
    "print(right)\n",
    "#2回交換、1回入れ替えで行ける\n",
    "print(26092458*2+2622 )"
   ]
  }
 ],
 "metadata": {
  "kernelspec": {
   "display_name": "env",
   "language": "python",
   "name": "python3"
  },
  "language_info": {
   "codemirror_mode": {
    "name": "ipython",
    "version": 3
   },
   "file_extension": ".py",
   "mimetype": "text/x-python",
   "name": "python",
   "nbconvert_exporter": "python",
   "pygments_lexer": "ipython3",
   "version": "3.9.13"
  }
 },
 "nbformat": 4,
 "nbformat_minor": 2
}
