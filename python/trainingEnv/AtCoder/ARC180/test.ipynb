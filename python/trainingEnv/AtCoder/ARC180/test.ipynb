{
 "cells": [
  {
   "cell_type": "markdown",
   "metadata": {},
   "source": [
    "17\n",
    "BBABABAABABAAAABA\n",
    "xooooxxoxoxxxxoxx\n",
    "→\n",
    "\n",
    "\n",
    "ABABA\n",
    "\n",
    "\n",
    "queue \n",
    "←ABABA0 ABA0\n",
    "→ABA0\n",
    "←ABA0 A0\n",
    "→A0\n",
    "→ABA9\n",
    "→ABABA0\n",
    "←ABABA1 ABA1\n",
    "→ABA1\n",
    "\n",
    "\n",
    "\n"
   ]
  },
  {
   "cell_type": "code",
   "execution_count": null,
   "metadata": {},
   "outputs": [],
   "source": []
  }
 ],
 "metadata": {
  "kernelspec": {
   "display_name": "env",
   "language": "python",
   "name": "python3"
  },
  "language_info": {
   "codemirror_mode": {
    "name": "ipython",
    "version": 3
   },
   "file_extension": ".py",
   "mimetype": "text/x-python",
   "name": "python",
   "nbconvert_exporter": "python",
   "pygments_lexer": "ipython3",
   "version": "3.11.1"
  }
 },
 "nbformat": 4,
 "nbformat_minor": 2
}
