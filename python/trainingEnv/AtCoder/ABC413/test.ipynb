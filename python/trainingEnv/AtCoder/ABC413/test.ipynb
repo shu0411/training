{
 "cells": [
  {
   "cell_type": "code",
   "execution_count": null,
   "metadata": {},
   "outputs": [],
   "source": []
  },
  {
   "cell_type": "markdown",
   "metadata": {},
   "source": [
    "1 2 3 4\n",
    "3 4 5 6\n",
    "\n",
    "2 4→1 1 1 2\n",
    "2 2→2 2\n",
    "\n",
    "要素数11  N // 2 = 5\n",
    "0 1 2 3 4 5(-6) -5 -4 -3 -2 -1\n",
    "\n",
    "真ん中が正：\n",
    "-1 / 0 の比を計算\n",
    "-1と0をチェック\n",
    "0と-2をチェック\n",
    "→最後\n",
    "-5と4をチェック\n",
    "4と-6をチェック\n",
    "\n",
    "真ん中が負：\n",
    "0 / -1 の比を計算\n",
    "0と-1をチェック\n",
    "-1と1をチェック\n",
    "→最後\n",
    "4と-5をチェック\n",
    "-5と5をチェック"
   ]
  }
 ],
 "metadata": {
  "kernelspec": {
   "display_name": "env",
   "language": "python",
   "name": "python3"
  },
  "language_info": {
   "codemirror_mode": {
    "name": "ipython",
    "version": 3
   },
   "file_extension": ".py",
   "mimetype": "text/x-python",
   "name": "python",
   "nbconvert_exporter": "python",
   "pygments_lexer": "ipython3",
   "version": "3.11.1"
  }
 },
 "nbformat": 4,
 "nbformat_minor": 2
}
