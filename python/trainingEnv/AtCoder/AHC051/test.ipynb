{
 "cells": [
  {
   "cell_type": "markdown",
   "metadata": {},
   "source": [
    "1万×1万のごみ処理場の領域の(0,5000)の位置にごみ搬入口。\n",
    "処理装置：\n",
    "N個\n",
    "おける場所もN個\n",
    "xd,yd :処理装置を置ける場所の座標\n",
    "\n",
    "分別器：\n",
    "種類数K\n",
    "おける場所の数M\n",
    "xs,ys :分別器を置ける場所の座標\n",
    "pij :i番目の分別器がjを出口1から出す確率（出口2から出す確率は1-pij）\n",
    "出口の行先は、番号で表し\n",
    "処理装置：i\n",
    "分岐器：N+i\n",
    "で表す。＝入力の行数と同じ。\n",
    "\n",
    "ベルトコンベア：\n",
    "交差しないようにする"
   ]
  },
  {
   "cell_type": "code",
   "execution_count": null,
   "metadata": {},
   "outputs": [],
   "source": []
  }
 ],
 "metadata": {
  "kernelspec": {
   "display_name": "env",
   "language": "python",
   "name": "python3"
  },
  "language_info": {
   "codemirror_mode": {
    "name": "ipython",
    "version": 3
   },
   "file_extension": ".py",
   "mimetype": "text/x-python",
   "name": "python",
   "nbconvert_exporter": "python",
   "pygments_lexer": "ipython3",
   "version": "3.11.1"
  }
 },
 "nbformat": 4,
 "nbformat_minor": 2
}
