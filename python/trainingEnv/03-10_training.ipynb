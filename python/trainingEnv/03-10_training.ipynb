{
 "cells": [
  {
   "attachments": {},
   "cell_type": "markdown",
   "metadata": {},
   "source": [
    "3. ABC081B - Shift only\n",
    "黒板に \n",
    "N 個の正の整数 A 1,...,A N が書かれています．\n",
    "すぬけ君は，黒板に書かれている整数がすべて偶数であるとき，次の操作を行うことができます．\n",
    "黒板に書かれている整数すべてを，2 で割ったものに置き換える．\n",
    "すぬけ君は最大で何回操作を行うことができるかを求めてください．\n",
    "制約\n",
    "1≤N≤200\n",
    "1≤Ai≤10^9\n",
    "入力\n",
    "入力は以下の形式で標準入力から与えられる。\n",
    "N\n",
    "A1 A2 ... AN\n",
    "出力\n",
    "すぬけ君は最大で何回操作を行うことができるかを出力せよ．"
   ]
  },
  {
   "cell_type": "code",
   "execution_count": 15,
   "metadata": {},
   "outputs": [
    {
     "name": "stdout",
     "output_type": "stream",
     "text": [
      "2\n"
     ]
    }
   ],
   "source": [
    "#入力\n",
    "in_N = input()\n",
    "in_A = input()\n",
    "list_A = map(int,in_A.split())\n",
    "\n",
    "#処理\n",
    "out = -1\n",
    "tempOut = 0\n",
    "\n",
    "for temp_A in list_A:\n",
    "    tempOut = 0\n",
    "    while temp_A % 2 == 0:\n",
    "        tempOut += 1\n",
    "        temp_A = temp_A / 2\n",
    "    if out == -1 or tempOut < out:\n",
    "        out = tempOut\n",
    "\n",
    "#出力\n",
    "print(out)"
   ]
  },
  {
   "attachments": {},
   "cell_type": "markdown",
   "metadata": {},
   "source": [
    "4. ABC087B - Coins\n",
    "あなたは、500 円玉をA枚、100 円玉をB枚、50 円玉をC枚持っています。\n",
    "これらの硬貨の中から何枚かを選び、合計金額をちょうど X 円にする方法は何通りありますか。\n",
    "同じ種類の硬貨どうしは区別できません。\n",
    "2 通りの硬貨の選び方は、ある種類の硬貨についてその硬貨を選ぶ枚数が異なるとき区別されます。\n",
    "制約\n",
    "0≤A,B,C≤50\n",
    "A+B+C≥1\n",
    "50≤X≤20,000\n",
    "A,B,C は整数である\n",
    "X は 50 の倍数である\n",
    "入力\n",
    "入力は以下の形式で標準入力から与えられる。\n",
    "A\n",
    "B\n",
    "C\n",
    "X\n",
    "出力\n",
    "硬貨を選ぶ方法の個数を出力せよ。"
   ]
  },
  {
   "cell_type": "code",
   "execution_count": 19,
   "metadata": {},
   "outputs": [
    {
     "name": "stdout",
     "output_type": "stream",
     "text": [
      "2\n"
     ]
    }
   ],
   "source": [
    "#入力\n",
    "in_A = int(input())\n",
    "in_B = int(input())\n",
    "in_C = int(input())\n",
    "in_X = int(input())\n",
    "\n",
    "#処理\n",
    "out = 0\n",
    "for digit in range(in_A + 1):\n",
    "    for place in range(in_B + 1):\n",
    "        for c in range(in_C + 1):\n",
    "            sum = 500 * digit + 100 * place + 50 * c\n",
    "            if sum == in_X:\n",
    "                out += 1\n",
    "\n",
    "#出力\n",
    "print(out)"
   ]
  },
  {
   "attachments": {},
   "cell_type": "markdown",
   "metadata": {},
   "source": [
    "5. ABC083B - Some Sums\n",
    "1 以上 N 以下の整数のうち、\n",
    "10 進法での各桁の和が A 以上 B 以下であるものの総和を求めてください。\n",
    "制約\n",
    "1≤N≤10^4\n",
    "1≤A≤B≤36\n",
    "入力はすべて整数である\n",
    "入力\n",
    "入力は以下の形式で標準入力から与えられる。\n",
    "N A B\n",
    "出力\n",
    "1 以上 N 以下の整数のうち、\n",
    "10 進法での各桁の和が A 以上 B 以下であるものの総和を出力せよ。"
   ]
  },
  {
   "cell_type": "code",
   "execution_count": 7,
   "metadata": {},
   "outputs": [
    {
     "name": "stdout",
     "output_type": "stream",
     "text": [
      "4652868\n"
     ]
    }
   ],
   "source": [
    "#入力\n",
    "inAll = input()\n",
    "in_N, in_A, in_B = map(int,inAll.split())\n",
    "\n",
    "#処理\n",
    "out = 0\n",
    "for tmp in range(1, in_N + 1):\n",
    "    tmp_a = tmp // 10000\n",
    "    tmp_b = (tmp - tmp_a * 10000) // 1000\n",
    "    tmp_c = (tmp - tmp_a * 10000 - tmp_b * 1000) // 100\n",
    "    tmp_d = (tmp - tmp_a * 10000 - tmp_b * 1000 - tmp_c * 100) // 10\n",
    "    tmp_e = tmp - tmp_a * 10000 - tmp_b * 1000 - tmp_c * 100 - tmp_d * 10\n",
    "    sum = tmp_a + tmp_b + tmp_c + tmp_d + tmp_e\n",
    "\n",
    "    if in_A <= sum <= in_B:\n",
    "        out += tmp\n",
    "\n",
    "#出力\n",
    "print(out)"
   ]
  },
  {
   "cell_type": "code",
   "execution_count": 6,
   "metadata": {},
   "outputs": [
    {
     "name": "stdout",
     "output_type": "stream",
     "text": [
      "4652868\n"
     ]
    }
   ],
   "source": [
    "#入力\n",
    "inAll = input()\n",
    "in_N, in_A, in_B = map(int,inAll.split())\n",
    "\n",
    "#処理\n",
    "out = 0\n",
    "for tmp in range(1, in_N + 1):      #1→Nまで繰り返し\n",
    "    sum = 0\n",
    "    x = tmp\n",
    "    for div in range(4, -1, -1):    #4→0（10000の位→1の位）まで繰り返し\n",
    "        digit = 10 ** div       #べき乗取得\n",
    "        place = x // digit      #各位の数を足す\n",
    "        sum += place            #各位の和を計算\n",
    "        x = x - place * digit   #その位の数をxから引く\n",
    "\n",
    "    if in_A <= sum <= in_B:     #判定\n",
    "        out += tmp\n",
    "\n",
    "#出力\n",
    "print(out)"
   ]
  },
  {
   "attachments": {},
   "cell_type": "markdown",
   "metadata": {},
   "source": [
    "6.ABC088B - Card Game for Two\n",
    "問題文\n",
    "N 枚のカードがあります. \n",
    "i 枚目のカードには, aiという数が書かれています.\n",
    "Alice と Bob は, これらのカードを使ってゲームを行います.\n",
    "ゲームでは, Alice と Bob が交互に 1 枚ずつカードを取っていきます.\n",
    "Alice が先にカードを取ります.\n",
    "2 人がすべてのカードを取ったときゲームは終了し, 取ったカードの数の合計がその人の得点になります.\n",
    "2 人とも自分の得点を最大化するように最適な戦略を取った時, Alice は Bob より何点多く取るか求めてください.\n",
    "制約\n",
    "N は 1 以上 100 以下の整数\n",
    "ai(1≤i≤N) は 1 以上 100 以下の整数\n",
    "入力\n",
    "入力は以下の形式で標準入力から与えられる.\n",
    "N\n",
    "a1 a2 a3 ... aN\n",
    "出力\n",
    "両者が最適な戦略を取った時, Alice は Bob より何点多く取るかを出力してください."
   ]
  },
  {
   "cell_type": "code",
   "execution_count": 33,
   "metadata": {},
   "outputs": [
    {
     "name": "stdout",
     "output_type": "stream",
     "text": [
      "99\n"
     ]
    }
   ],
   "source": [
    "#入力\n",
    "in_N = int(input())\n",
    "in_a = input()\n",
    "\n",
    "#処理\n",
    "out = 0\n",
    "score_A = 0\n",
    "score_B = 0\n",
    "list_a = map(int,in_a.split())  #取得したaを配列化してintに変換\n",
    "sorted_list_a = sorted(list_a,reverse=True)  #配列を降順にソート\n",
    "for i in range(in_N):\n",
    "    a = int(sorted_list_a[i])\n",
    "    if(i % 2 == 0):     #奇数番目ならAに加算（0始まりなのでiは偶数）\n",
    "        score_A += a\n",
    "    else:\n",
    "        score_B += a\n",
    "\n",
    "out = score_A - score_B\n",
    "#出力\n",
    "print(str(out))"
   ]
  },
  {
   "attachments": {},
   "cell_type": "markdown",
   "metadata": {},
   "source": [
    "7.ABC085B - Kagami Mochi\n",
    "問題文\n",
    "X 段重ねの鏡餅 (X≥1) とは、X 枚の円形の餅を縦に積み重ねたものであって、\n",
    "どの餅もその真下の餅より直径が小さい（一番下の餅を除く）もののことです。\n",
    "例えば、直径10、8、6 センチメートルの餅をこの順に下から積み重ねると 3 段重ねの鏡餅になり、\n",
    "餅を一枚だけ置くと 1 段重ねの鏡餅になります。\n",
    "ダックスフンドのルンルンは N 枚の円形の餅を持っていて、そのうち i 枚目の餅の直径は di センチメートルです。\n",
    "これらの餅のうち一部または全部を使って鏡餅を作るとき、最大で何段重ねの鏡餅を作ることができるでしょうか。\n",
    "制約\n",
    "1≤N≤100\n",
    "1≤di≤100\n",
    "入力値はすべて整数である。\n",
    "入力\n",
    "入力は以下の形式で標準入力から与えられる。\n",
    "N\n",
    "d1\n",
    ":\n",
    "dN\n",
    "出力\n",
    "作ることのできる鏡餅の最大の段数を出力せよ。"
   ]
  },
  {
   "cell_type": "code",
   "execution_count": 38,
   "metadata": {},
   "outputs": [
    {
     "name": "stdout",
     "output_type": "stream",
     "text": [
      "3\n"
     ]
    }
   ],
   "source": [
    "#入力\n",
    "in_N = int(input())\n",
    "list_d = []\n",
    "for i in range(in_N):\n",
    "    list_d.append(int(input()))\n",
    "\n",
    "#処理\n",
    "out = 0\n",
    "sorted_list_d = sorted(list_d)\n",
    "before_d = -1\n",
    "for d in sorted_list_d:\n",
    "    if d != before_d:\n",
    "        out += 1\n",
    "        before_d = d\n",
    "\n",
    "#出力\n",
    "print(str(out))"
   ]
  },
  {
   "attachments": {},
   "cell_type": "markdown",
   "metadata": {},
   "source": [
    "8.ABC085C - Otoshidama\n",
    "問題文\n",
    "日本でよく使われる紙幣は、10000 円札、5000 円札、1000 円札です。以下、「お札」とはこれらのみを指します。\n",
    "青橋くんが言うには、彼が祖父から受け取ったお年玉袋にはお札が N 枚入っていて、合計で Y 円だったそうですが、嘘かもしれません。\n",
    "このような状況がありうるか判定し、ありうる場合はお年玉袋の中身の候補を一つ見つけてください。\n",
    "なお、彼の祖父は十分裕福であり、お年玉袋は十分大きかったものとします。\n",
    "制約\n",
    "1≤N≤2000\n",
    "1000≤Y≤2×10^7\n",
    "N は整数である。\n",
    "Y は 1000 の倍数である。\n",
    "入力\n",
    "入力は以下の形式で標準入力から与えられる。\n",
    "N Y\n",
    "出力\n",
    "N 枚のお札の合計金額が Y 円となることがありえない場合は、-1 -1 -1 と出力せよ。\n",
    "N 枚のお札の合計金額が Y 円となることがありうる場合は、\n",
    "そのような N 枚のお札の組み合わせの一例を「10000 円札 x 枚、5000 円札 y 枚、1000 円札 z 枚」として、\n",
    "x、y、z を空白で区切って出力せよ。\n",
    "複数の可能性が考えられるときは、そのうちどれを出力してもよい。"
   ]
  },
  {
   "cell_type": "code",
   "execution_count": null,
   "metadata": {},
   "outputs": [],
   "source": [
    "#入力\n",
    "\n",
    "#処理\n",
    "out = 0\n",
    "\n",
    "#出力\n",
    "print(out)"
   ]
  },
  {
   "attachments": {},
   "cell_type": "markdown",
   "metadata": {},
   "source": [
    "#入力\n",
    "\n",
    "#処理\n",
    "out = 0\n",
    "\n",
    "#出力\n",
    "print(out)"
   ]
  },
  {
   "attachments": {},
   "cell_type": "markdown",
   "metadata": {},
   "source": [
    "テスト用"
   ]
  },
  {
   "cell_type": "code",
   "execution_count": 4,
   "metadata": {},
   "outputs": [
    {
     "name": "stdout",
     "output_type": "stream",
     "text": [
      "10000\n",
      "14\n",
      "9\n",
      "8\n",
      "11\n",
      "10\n"
     ]
    }
   ],
   "source": [
    "#list = range(4, -1, -1)\n",
    "#for i in list:\n",
    "#    print(i)\n",
    "\n",
    "print(10**4)\n",
    "print(10^4)\n",
    "print(10^3)\n",
    "print(10^2)\n",
    "print(10^1)\n",
    "print(10^0)"
   ]
  }
 ],
 "metadata": {
  "kernelspec": {
   "display_name": "env",
   "language": "python",
   "name": "python3"
  },
  "language_info": {
   "codemirror_mode": {
    "name": "ipython",
    "version": 3
   },
   "file_extension": ".py",
   "mimetype": "text/x-python",
   "name": "python",
   "nbconvert_exporter": "python",
   "pygments_lexer": "ipython3",
   "version": "3.11.1"
  },
  "orig_nbformat": 4,
  "vscode": {
   "interpreter": {
    "hash": "45e9fd71ce7a550e48363f5381e3fd4fd7a9a400a79bea3ecb74ba75f541d353"
   }
  }
 },
 "nbformat": 4,
 "nbformat_minor": 2
}
