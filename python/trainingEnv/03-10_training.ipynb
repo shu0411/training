{
 "cells": [
  {
   "attachments": {},
   "cell_type": "markdown",
   "metadata": {},
   "source": [
    "#入力\n",
    "\n",
    "#処理\n",
    "out = 0\n",
    "\n",
    "#出力\n",
    "print(out)"
   ]
  },
  {
   "attachments": {},
   "cell_type": "markdown",
   "metadata": {},
   "source": [
    "3. ABC081B - Shift only\n",
    "黒板に \n",
    "N 個の正の整数 A 1,...,A N が書かれています．\n",
    "すぬけ君は，黒板に書かれている整数がすべて偶数であるとき，次の操作を行うことができます．\n",
    "黒板に書かれている整数すべてを，2 で割ったものに置き換える．\n",
    "すぬけ君は最大で何回操作を行うことができるかを求めてください．\n",
    "制約\n",
    "1≤N≤200\n",
    "1≤Ai≤10^9\n",
    "入力\n",
    "入力は以下の形式で標準入力から与えられる。\n",
    "N\n",
    "A1 A2 ... AN\n",
    "出力\n",
    "すぬけ君は最大で何回操作を行うことができるかを出力せよ．"
   ]
  },
  {
   "cell_type": "code",
   "execution_count": 15,
   "metadata": {},
   "outputs": [
    {
     "name": "stdout",
     "output_type": "stream",
     "text": [
      "2\n"
     ]
    }
   ],
   "source": [
    "#入力\n",
    "in_N = input()\n",
    "in_A = input()\n",
    "list_A = map(int,in_A.split())\n",
    "\n",
    "#処理\n",
    "out = -1\n",
    "tempOut = 0\n",
    "\n",
    "for temp_A in list_A:\n",
    "    tempOut = 0\n",
    "    while temp_A % 2 == 0:\n",
    "        tempOut += 1\n",
    "        temp_A = temp_A / 2\n",
    "    if out == -1 or tempOut < out:\n",
    "        out = tempOut\n",
    "\n",
    "#出力\n",
    "print(out)"
   ]
  },
  {
   "attachments": {},
   "cell_type": "markdown",
   "metadata": {},
   "source": [
    "4. ABC087B - Coins\n",
    "あなたは、500 円玉をA枚、100 円玉をB枚、50 円玉をC枚持っています。\n",
    "これらの硬貨の中から何枚かを選び、合計金額をちょうど X 円にする方法は何通りありますか。\n",
    "同じ種類の硬貨どうしは区別できません。\n",
    "2 通りの硬貨の選び方は、ある種類の硬貨についてその硬貨を選ぶ枚数が異なるとき区別されます。\n",
    "制約\n",
    "0≤A,B,C≤50\n",
    "A+B+C≥1\n",
    "50≤X≤20,000\n",
    "A,B,C は整数である\n",
    "X は 50 の倍数である\n",
    "入力\n",
    "入力は以下の形式で標準入力から与えられる。\n",
    "A\n",
    "B\n",
    "C\n",
    "X\n",
    "出力\n",
    "硬貨を選ぶ方法の個数を出力せよ。"
   ]
  },
  {
   "cell_type": "code",
   "execution_count": 19,
   "metadata": {},
   "outputs": [
    {
     "name": "stdout",
     "output_type": "stream",
     "text": [
      "2\n"
     ]
    }
   ],
   "source": [
    "#入力\n",
    "in_A = int(input())\n",
    "in_B = int(input())\n",
    "in_C = int(input())\n",
    "in_X = int(input())\n",
    "\n",
    "#処理\n",
    "out = 0\n",
    "for a in range(in_A + 1):\n",
    "    for b in range(in_B + 1):\n",
    "        for c in range(in_C + 1):\n",
    "            sum = 500 * a + 100 * b + 50 * c\n",
    "            if sum == in_X:\n",
    "                out += 1\n",
    "\n",
    "#出力\n",
    "print(out)"
   ]
  },
  {
   "attachments": {},
   "cell_type": "markdown",
   "metadata": {},
   "source": [
    "5. ABC083B - Some Sums\n",
    "1 以上 N 以下の整数のうち、\n",
    "10 進法での各桁の和が A 以上 B 以下であるものの総和を求めてください。\n",
    "制約\n",
    "1≤N≤10^4\n",
    "1≤A≤B≤36\n",
    "入力はすべて整数である\n",
    "入力\n",
    "入力は以下の形式で標準入力から与えられる。\n",
    "N A B\n",
    "出力\n",
    "1 以上 N 以下の整数のうち、\n",
    "10 進法での各桁の和が A 以上 B 以下であるものの総和を出力せよ。"
   ]
  },
  {
   "cell_type": "code",
   "execution_count": 46,
   "metadata": {},
   "outputs": [
    {
     "name": "stdout",
     "output_type": "stream",
     "text": [
      "0\n"
     ]
    }
   ],
   "source": [
    "#入力\n",
    "inAll = input()\n",
    "in_N, in_A, in_B = map(int,inAll.split())\n",
    "\n",
    "#処理\n",
    "out = 0\n",
    "for tmp in range(1, in_N + 1):\n",
    "    # tmp_a = tmp // 10000\n",
    "    # tmp_b = (tmp - tmp_a * 10000) // 1000\n",
    "    # tmp_c = (tmp - tmp_a * 10000 - tmp_b * 1000) // 100\n",
    "    # tmp_d = (tmp - tmp_a * 10000 - tmp_b * 1000 - tmp_c * 100) // 10\n",
    "    # tmp_e = tmp - tmp_a * 10000 - tmp_b * 1000 - tmp_c * 100 - tmp_d * 10\n",
    "    # sum = tmp_a + tmp_b + tmp_c + tmp_d + tmp_e\n",
    "    sum = 0\n",
    "    x = tmp\n",
    "    for div in range(4, -1, -1):\n",
    "        x = x - a * (10 ^ (div + 1))\n",
    "        a = x // (10 ^ div)\n",
    "        sum += a\n",
    "\n",
    "    if in_A <= sum <= in_B:\n",
    "        out += tmp\n",
    "\n",
    "#出力\n",
    "print(out)"
   ]
  },
  {
   "cell_type": "code",
   "execution_count": 44,
   "metadata": {},
   "outputs": [
    {
     "name": "stdout",
     "output_type": "stream",
     "text": [
      "4\n",
      "3\n",
      "2\n",
      "1\n",
      "0\n"
     ]
    }
   ],
   "source": [
    "list = range(4, -1, -1)\n",
    "for i in list:\n",
    "    print(i)"
   ]
  }
 ],
 "metadata": {
  "kernelspec": {
   "display_name": "env",
   "language": "python",
   "name": "python3"
  },
  "language_info": {
   "codemirror_mode": {
    "name": "ipython",
    "version": 3
   },
   "file_extension": ".py",
   "mimetype": "text/x-python",
   "name": "python",
   "nbconvert_exporter": "python",
   "pygments_lexer": "ipython3",
   "version": "3.11.1"
  },
  "orig_nbformat": 4,
  "vscode": {
   "interpreter": {
    "hash": "45e9fd71ce7a550e48363f5381e3fd4fd7a9a400a79bea3ecb74ba75f541d353"
   }
  }
 },
 "nbformat": 4,
 "nbformat_minor": 2
}
